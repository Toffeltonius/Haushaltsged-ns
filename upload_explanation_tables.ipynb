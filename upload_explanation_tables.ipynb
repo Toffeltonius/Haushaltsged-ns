{
 "cells": [
  {
   "cell_type": "code",
   "execution_count": null,
   "metadata": {},
   "outputs": [],
   "source": [
    "import pandas as pd\n",
    "import sqlalchemy as sql\n",
    "import psycopg2\n",
    "import sql_functions as sf \n",
    "import update as up "
   ]
  },
  {
   "cell_type": "code",
   "execution_count": null,
   "metadata": {},
   "outputs": [],
   "source": [
    "df_fkz = pd.read_csv('data/funktionenliste.csv',dtype={'fkz': str})\n",
    "df_groups = pd.read_csv('data/gruppenliste.csv',dtype={'gruppe': str})\n",
    "df_fkz\n",
    "df_groups"
   ]
  },
  {
   "cell_type": "code",
   "execution_count": null,
   "metadata": {},
   "outputs": [],
   "source": [
    "up.update_fkz(df_fkz)\n",
    "up.update_group(df_groups)"
   ]
  }
 ],
 "metadata": {
  "kernelspec": {
   "display_name": "Python 3",
   "language": "python",
   "name": "python3"
  },
  "language_info": {
   "codemirror_mode": {
    "name": "ipython",
    "version": 3
   },
   "file_extension": ".py",
   "mimetype": "text/x-python",
   "name": "python",
   "nbconvert_exporter": "python",
   "pygments_lexer": "ipython3",
   "version": "3.9.13 | packaged by conda-forge | (main, May 27 2022, 17:01:00) \n[Clang 13.0.1 ]"
  },
  "orig_nbformat": 4,
  "vscode": {
   "interpreter": {
    "hash": "23079392365f892f1a2c6ee4945a9a372707884a107e0a13efa0af7ac5ca84c1"
   }
  }
 },
 "nbformat": 4,
 "nbformat_minor": 2
}
