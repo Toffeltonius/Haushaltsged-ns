{
 "cells": [
  {
   "cell_type": "code",
   "execution_count": 7,
   "metadata": {},
   "outputs": [],
   "source": [
    "import pandas as pd\n",
    "import sqlalchemy as sql\n",
    "import psycopg2\n",
    "import sql_functions as sf \n",
    "import update as up "
   ]
  },
  {
   "cell_type": "code",
   "execution_count": 10,
   "metadata": {},
   "outputs": [
    {
     "data": {
      "text/html": [
       "<div>\n",
       "<style scoped>\n",
       "    .dataframe tbody tr th:only-of-type {\n",
       "        vertical-align: middle;\n",
       "    }\n",
       "\n",
       "    .dataframe tbody tr th {\n",
       "        vertical-align: top;\n",
       "    }\n",
       "\n",
       "    .dataframe thead th {\n",
       "        text-align: right;\n",
       "    }\n",
       "</style>\n",
       "<table border=\"1\" class=\"dataframe\">\n",
       "  <thead>\n",
       "    <tr style=\"text-align: right;\">\n",
       "      <th></th>\n",
       "      <th>gruppe</th>\n",
       "      <th>gruppe_txt</th>\n",
       "    </tr>\n",
       "  </thead>\n",
       "  <tbody>\n",
       "    <tr>\n",
       "      <th>0</th>\n",
       "      <td>0</td>\n",
       "      <td>Einnahmen aus Steuern und steuerähnlichen Abga...</td>\n",
       "    </tr>\n",
       "    <tr>\n",
       "      <th>1</th>\n",
       "      <td>01</td>\n",
       "      <td>Gemeinschaftssteuern und Gewerbesteuerumlage</td>\n",
       "    </tr>\n",
       "    <tr>\n",
       "      <th>2</th>\n",
       "      <td>011</td>\n",
       "      <td>Lohnsteuer (Landesanteil)</td>\n",
       "    </tr>\n",
       "    <tr>\n",
       "      <th>3</th>\n",
       "      <td>012</td>\n",
       "      <td>Veranlagte Einkommen steuer (Landesanteil)</td>\n",
       "    </tr>\n",
       "    <tr>\n",
       "      <th>4</th>\n",
       "      <td>013</td>\n",
       "      <td>Nicht veranlagte Steuern vom Ertrag (ohne Abge...</td>\n",
       "    </tr>\n",
       "    <tr>\n",
       "      <th>...</th>\n",
       "      <td>...</td>\n",
       "      <td>...</td>\n",
       "    </tr>\n",
       "    <tr>\n",
       "      <th>307</th>\n",
       "      <td>799</td>\n",
       "      <td>Große Neu-, Um- und Erweiterungsbauten</td>\n",
       "    </tr>\n",
       "    <tr>\n",
       "      <th>308</th>\n",
       "      <td>851</td>\n",
       "      <td>Darlehen an Bund</td>\n",
       "    </tr>\n",
       "    <tr>\n",
       "      <th>309</th>\n",
       "      <td>870</td>\n",
       "      <td>Inanspruchnahme aus Gewährleistungen</td>\n",
       "    </tr>\n",
       "    <tr>\n",
       "      <th>310</th>\n",
       "      <td>896</td>\n",
       "      <td>Zuschüsse für Investitionen an Ausland</td>\n",
       "    </tr>\n",
       "    <tr>\n",
       "      <th>311</th>\n",
       "      <td>916</td>\n",
       "      <td>Zuführungen an Fonds und Stöcke</td>\n",
       "    </tr>\n",
       "  </tbody>\n",
       "</table>\n",
       "<p>312 rows × 2 columns</p>\n",
       "</div>"
      ],
      "text/plain": [
       "    gruppe                                         gruppe_txt\n",
       "0        0  Einnahmen aus Steuern und steuerähnlichen Abga...\n",
       "1       01       Gemeinschaftssteuern und Gewerbesteuerumlage\n",
       "2      011                          Lohnsteuer (Landesanteil)\n",
       "3      012         Veranlagte Einkommen steuer (Landesanteil)\n",
       "4      013  Nicht veranlagte Steuern vom Ertrag (ohne Abge...\n",
       "..     ...                                                ...\n",
       "307    799             Große Neu-, Um- und Erweiterungsbauten\n",
       "308    851                                   Darlehen an Bund\n",
       "309    870               Inanspruchnahme aus Gewährleistungen\n",
       "310    896             Zuschüsse für Investitionen an Ausland\n",
       "311    916                    Zuführungen an Fonds und Stöcke\n",
       "\n",
       "[312 rows x 2 columns]"
      ]
     },
     "execution_count": 10,
     "metadata": {},
     "output_type": "execute_result"
    }
   ],
   "source": [
    "df_fkz = pd.read_csv('data/funktionenliste.csv',dtype={'fkz': str})\n",
    "df_groups = pd.read_csv('data/gruppenliste.csv',dtype={'gruppe': str})\n",
    "df_fkz\n",
    "df_groups"
   ]
  },
  {
   "cell_type": "code",
   "execution_count": 11,
   "metadata": {},
   "outputs": [
    {
     "name": "stdout",
     "output_type": "stream",
     "text": [
      "The funktionsbezeichnungen table was imported successfully.\n",
      "The gruppen table was imported successfully.\n"
     ]
    }
   ],
   "source": [
    "up.update_fkz(df_fkz)\n",
    "up.update_group(df_groups)"
   ]
  }
 ],
 "metadata": {
  "kernelspec": {
   "display_name": "Python 3",
   "language": "python",
   "name": "python3"
  },
  "language_info": {
   "codemirror_mode": {
    "name": "ipython",
    "version": 3
   },
   "file_extension": ".py",
   "mimetype": "text/x-python",
   "name": "python",
   "nbconvert_exporter": "python",
   "pygments_lexer": "ipython3",
   "version": "3.9.13 | packaged by conda-forge | (main, May 27 2022, 17:01:00) \n[Clang 13.0.1 ]"
  },
  "orig_nbformat": 4,
  "vscode": {
   "interpreter": {
    "hash": "23079392365f892f1a2c6ee4945a9a372707884a107e0a13efa0af7ac5ca84c1"
   }
  }
 },
 "nbformat": 4,
 "nbformat_minor": 2
}
