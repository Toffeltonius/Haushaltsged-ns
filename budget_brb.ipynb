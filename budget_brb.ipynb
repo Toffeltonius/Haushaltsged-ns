{
 "cells": [
  {
   "cell_type": "code",
   "execution_count": 17,
   "metadata": {},
   "outputs": [],
   "source": [
    "import pandas as pd\n",
    "import sqlalchemy as sql\n",
    "import psycopg2\n",
    "from sql_functions import get_engine\n",
    "from sql_functions import get_sql_config\n",
    "from sql_functions import push_to_database"
   ]
  },
  {
   "cell_type": "code",
   "execution_count": 2,
   "metadata": {},
   "outputs": [],
   "source": [
    "df_budget = pd.read_excel('data/brb_2022.xlsm')"
   ]
  },
  {
   "cell_type": "code",
   "execution_count": 3,
   "metadata": {},
   "outputs": [],
   "source": [
    "df_budget.columns = df_budget.columns.str.replace(\" \", \"_\")\n",
    "df_budget.columns = df_budget.columns.str.lower()"
   ]
  },
  {
   "cell_type": "code",
   "execution_count": 4,
   "metadata": {},
   "outputs": [],
   "source": [
    "df_budget.rename(columns = {'bezeichnung':'ep_txt', 'bezeichnung.1':'kapitel_txt', 'bezeichnung_fz' : 'fz_txt' }, inplace = True)"
   ]
  },
  {
   "cell_type": "code",
   "execution_count": 5,
   "metadata": {},
   "outputs": [],
   "source": [
    "df_budget['ep'] = df_budget['ep'].astype(str)\n",
    "df_budget['ep'] = df_budget['ep'].apply(lambda x:x.zfill(2))\n",
    "df_budget['kapitel'] = df_budget['kapitel'].astype(str)\n",
    "df_budget['kapitel'] = df_budget['kapitel'].str[-3:]\n",
    "df_budget['titel'] = df_budget['titel'].astype(str)\n",
    "df_budget['titel'] = df_budget['titel'].apply(lambda x:x.zfill(5))\n",
    "df_budget['fz'] = df_budget['fz'].astype(str)\n",
    "df_budget['fz'] = df_budget['fz'].apply(lambda x:x.zfill(3))\n"
   ]
  },
  {
   "cell_type": "code",
   "execution_count": 6,
   "metadata": {},
   "outputs": [],
   "source": [
    "df_budget.dropna(subset=['ansatz_2022_in_eur'],inplace=True)\n",
    "df_budget.ansatz_2022_in_eur = df_budget.ansatz_2022_in_eur.apply(lambda x: int(x))\n"
   ]
  },
  {
   "cell_type": "code",
   "execution_count": 7,
   "metadata": {},
   "outputs": [],
   "source": [
    "df_budget[\"gruppe\"] = df_budget[\"titel\"].str[:3]\n",
    "df_budget[\"counter\"] = df_budget[\"titel\"].str[3:]"
   ]
  },
  {
   "cell_type": "code",
   "execution_count": 8,
   "metadata": {},
   "outputs": [],
   "source": [
    "df_budget = df_budget.drop(['tgr./mgr.','bezeichnung.2','titel','ansatz_2021_in_eur','ea'], axis=1)"
   ]
  },
  {
   "cell_type": "code",
   "execution_count": 9,
   "metadata": {},
   "outputs": [],
   "source": [
    "df_budget['ansatz_2022_in_eur'] =df_budget[['ansatz_2022_in_eur', 'gruppe']].apply(lambda x:-x[0] if int(x[1]) > 400 else x[0], axis=1)"
   ]
  },
  {
   "cell_type": "code",
   "execution_count": 10,
   "metadata": {},
   "outputs": [],
   "source": [
    "df_budget.insert(len(df_budget.columns),\"jahr\", 2022)\n",
    "df_budget.insert(len(df_budget.columns),\"state_id\", 4)"
   ]
  },
  {
   "cell_type": "code",
   "execution_count": 11,
   "metadata": {},
   "outputs": [
    {
     "data": {
      "text/html": [
       "<div>\n",
       "<style scoped>\n",
       "    .dataframe tbody tr th:only-of-type {\n",
       "        vertical-align: middle;\n",
       "    }\n",
       "\n",
       "    .dataframe tbody tr th {\n",
       "        vertical-align: top;\n",
       "    }\n",
       "\n",
       "    .dataframe thead th {\n",
       "        text-align: right;\n",
       "    }\n",
       "</style>\n",
       "<table border=\"1\" class=\"dataframe\">\n",
       "  <thead>\n",
       "    <tr style=\"text-align: right;\">\n",
       "      <th></th>\n",
       "      <th>ep</th>\n",
       "      <th>ep_txt</th>\n",
       "      <th>kapitel</th>\n",
       "      <th>kapitel_txt</th>\n",
       "      <th>fz</th>\n",
       "      <th>fz_txt</th>\n",
       "      <th>zweckbestimmung</th>\n",
       "      <th>ansatz_2022_in_eur</th>\n",
       "      <th>gruppe</th>\n",
       "      <th>counter</th>\n",
       "      <th>jahr</th>\n",
       "      <th>state_id</th>\n",
       "    </tr>\n",
       "  </thead>\n",
       "  <tbody>\n",
       "    <tr>\n",
       "      <th>0</th>\n",
       "      <td>01</td>\n",
       "      <td>Landtag</td>\n",
       "      <td>010</td>\n",
       "      <td>Landtag Brandenburg</td>\n",
       "      <td>011</td>\n",
       "      <td>Politische Führung</td>\n",
       "      <td>Gebühren, sonstige Entgelte</td>\n",
       "      <td>1000</td>\n",
       "      <td>111</td>\n",
       "      <td>10</td>\n",
       "      <td>2022</td>\n",
       "      <td>4</td>\n",
       "    </tr>\n",
       "    <tr>\n",
       "      <th>1</th>\n",
       "      <td>01</td>\n",
       "      <td>Landtag</td>\n",
       "      <td>010</td>\n",
       "      <td>Landtag Brandenburg</td>\n",
       "      <td>011</td>\n",
       "      <td>Politische Führung</td>\n",
       "      <td>Geldstrafen, Geldbußen und Zwangsgelder (einsc...</td>\n",
       "      <td>1000</td>\n",
       "      <td>112</td>\n",
       "      <td>10</td>\n",
       "      <td>2022</td>\n",
       "      <td>4</td>\n",
       "    </tr>\n",
       "    <tr>\n",
       "      <th>2</th>\n",
       "      <td>01</td>\n",
       "      <td>Landtag</td>\n",
       "      <td>010</td>\n",
       "      <td>Landtag Brandenburg</td>\n",
       "      <td>011</td>\n",
       "      <td>Politische Führung</td>\n",
       "      <td>Sonstige Verwaltungseinnahmen</td>\n",
       "      <td>1000</td>\n",
       "      <td>119</td>\n",
       "      <td>10</td>\n",
       "      <td>2022</td>\n",
       "      <td>4</td>\n",
       "    </tr>\n",
       "    <tr>\n",
       "      <th>3</th>\n",
       "      <td>01</td>\n",
       "      <td>Landtag</td>\n",
       "      <td>010</td>\n",
       "      <td>Landtag Brandenburg</td>\n",
       "      <td>011</td>\n",
       "      <td>Politische Führung</td>\n",
       "      <td>Einnahmen aus Veröffentlichungen</td>\n",
       "      <td>2000</td>\n",
       "      <td>119</td>\n",
       "      <td>20</td>\n",
       "      <td>2022</td>\n",
       "      <td>4</td>\n",
       "    </tr>\n",
       "    <tr>\n",
       "      <th>4</th>\n",
       "      <td>01</td>\n",
       "      <td>Landtag</td>\n",
       "      <td>010</td>\n",
       "      <td>Landtag Brandenburg</td>\n",
       "      <td>012</td>\n",
       "      <td>Innere Verwaltung</td>\n",
       "      <td>Umsatzsteuererstattung des Finanzamtes</td>\n",
       "      <td>0</td>\n",
       "      <td>119</td>\n",
       "      <td>22</td>\n",
       "      <td>2022</td>\n",
       "      <td>4</td>\n",
       "    </tr>\n",
       "    <tr>\n",
       "      <th>...</th>\n",
       "      <td>...</td>\n",
       "      <td>...</td>\n",
       "      <td>...</td>\n",
       "      <td>...</td>\n",
       "      <td>...</td>\n",
       "      <td>...</td>\n",
       "      <td>...</td>\n",
       "      <td>...</td>\n",
       "      <td>...</td>\n",
       "      <td>...</td>\n",
       "      <td>...</td>\n",
       "      <td>...</td>\n",
       "    </tr>\n",
       "    <tr>\n",
       "      <th>5988</th>\n",
       "      <td>20</td>\n",
       "      <td>Allgemeine Finanzverwaltung</td>\n",
       "      <td>710</td>\n",
       "      <td>Versorgung</td>\n",
       "      <td>813</td>\n",
       "      <td>Sondervermögen</td>\n",
       "      <td>Zuführung an das Sondervermögen \"Versorgungsfo...</td>\n",
       "      <td>0</td>\n",
       "      <td>919</td>\n",
       "      <td>35</td>\n",
       "      <td>2022</td>\n",
       "      <td>4</td>\n",
       "    </tr>\n",
       "    <tr>\n",
       "      <th>5989</th>\n",
       "      <td>20</td>\n",
       "      <td>Allgemeine Finanzverwaltung</td>\n",
       "      <td>710</td>\n",
       "      <td>Versorgung</td>\n",
       "      <td>018</td>\n",
       "      <td>Versorgung einschließlich Beihilfen für Versor...</td>\n",
       "      <td>Erstattungen von Versorgungsbezügen an den Bund</td>\n",
       "      <td>-600000</td>\n",
       "      <td>631</td>\n",
       "      <td>60</td>\n",
       "      <td>2022</td>\n",
       "      <td>4</td>\n",
       "    </tr>\n",
       "    <tr>\n",
       "      <th>5990</th>\n",
       "      <td>20</td>\n",
       "      <td>Allgemeine Finanzverwaltung</td>\n",
       "      <td>710</td>\n",
       "      <td>Versorgung</td>\n",
       "      <td>018</td>\n",
       "      <td>Versorgung einschließlich Beihilfen für Versor...</td>\n",
       "      <td>Erstattungen von Versorgungsbezügen an die Länder</td>\n",
       "      <td>-3360000</td>\n",
       "      <td>632</td>\n",
       "      <td>60</td>\n",
       "      <td>2022</td>\n",
       "      <td>4</td>\n",
       "    </tr>\n",
       "    <tr>\n",
       "      <th>5991</th>\n",
       "      <td>20</td>\n",
       "      <td>Allgemeine Finanzverwaltung</td>\n",
       "      <td>710</td>\n",
       "      <td>Versorgung</td>\n",
       "      <td>018</td>\n",
       "      <td>Versorgung einschließlich Beihilfen für Versor...</td>\n",
       "      <td>Erstattungen von Versorgungsbezügen an Gemeind...</td>\n",
       "      <td>-10000</td>\n",
       "      <td>633</td>\n",
       "      <td>60</td>\n",
       "      <td>2022</td>\n",
       "      <td>4</td>\n",
       "    </tr>\n",
       "    <tr>\n",
       "      <th>5992</th>\n",
       "      <td>20</td>\n",
       "      <td>Allgemeine Finanzverwaltung</td>\n",
       "      <td>710</td>\n",
       "      <td>Versorgung</td>\n",
       "      <td>018</td>\n",
       "      <td>Versorgung einschließlich Beihilfen für Versor...</td>\n",
       "      <td>Erstattungen von Versorgungsbezügen an \"Sonstige\"</td>\n",
       "      <td>-50000</td>\n",
       "      <td>634</td>\n",
       "      <td>60</td>\n",
       "      <td>2022</td>\n",
       "      <td>4</td>\n",
       "    </tr>\n",
       "  </tbody>\n",
       "</table>\n",
       "<p>5807 rows × 12 columns</p>\n",
       "</div>"
      ],
      "text/plain": [
       "      ep                       ep_txt kapitel          kapitel_txt   fz  \\\n",
       "0     01                      Landtag     010  Landtag Brandenburg  011   \n",
       "1     01                      Landtag     010  Landtag Brandenburg  011   \n",
       "2     01                      Landtag     010  Landtag Brandenburg  011   \n",
       "3     01                      Landtag     010  Landtag Brandenburg  011   \n",
       "4     01                      Landtag     010  Landtag Brandenburg  012   \n",
       "...   ..                          ...     ...                  ...  ...   \n",
       "5988  20  Allgemeine Finanzverwaltung     710           Versorgung  813   \n",
       "5989  20  Allgemeine Finanzverwaltung     710           Versorgung  018   \n",
       "5990  20  Allgemeine Finanzverwaltung     710           Versorgung  018   \n",
       "5991  20  Allgemeine Finanzverwaltung     710           Versorgung  018   \n",
       "5992  20  Allgemeine Finanzverwaltung     710           Versorgung  018   \n",
       "\n",
       "                                                 fz_txt  \\\n",
       "0                                    Politische Führung   \n",
       "1                                    Politische Führung   \n",
       "2                                    Politische Führung   \n",
       "3                                    Politische Führung   \n",
       "4                                     Innere Verwaltung   \n",
       "...                                                 ...   \n",
       "5988                                     Sondervermögen   \n",
       "5989  Versorgung einschließlich Beihilfen für Versor...   \n",
       "5990  Versorgung einschließlich Beihilfen für Versor...   \n",
       "5991  Versorgung einschließlich Beihilfen für Versor...   \n",
       "5992  Versorgung einschließlich Beihilfen für Versor...   \n",
       "\n",
       "                                        zweckbestimmung  ansatz_2022_in_eur  \\\n",
       "0                           Gebühren, sonstige Entgelte                1000   \n",
       "1     Geldstrafen, Geldbußen und Zwangsgelder (einsc...                1000   \n",
       "2                         Sonstige Verwaltungseinnahmen                1000   \n",
       "3                      Einnahmen aus Veröffentlichungen                2000   \n",
       "4                Umsatzsteuererstattung des Finanzamtes                   0   \n",
       "...                                                 ...                 ...   \n",
       "5988  Zuführung an das Sondervermögen \"Versorgungsfo...                   0   \n",
       "5989    Erstattungen von Versorgungsbezügen an den Bund             -600000   \n",
       "5990  Erstattungen von Versorgungsbezügen an die Länder            -3360000   \n",
       "5991  Erstattungen von Versorgungsbezügen an Gemeind...              -10000   \n",
       "5992  Erstattungen von Versorgungsbezügen an \"Sonstige\"              -50000   \n",
       "\n",
       "     gruppe counter  jahr  state_id  \n",
       "0       111      10  2022         4  \n",
       "1       112      10  2022         4  \n",
       "2       119      10  2022         4  \n",
       "3       119      20  2022         4  \n",
       "4       119      22  2022         4  \n",
       "...     ...     ...   ...       ...  \n",
       "5988    919      35  2022         4  \n",
       "5989    631      60  2022         4  \n",
       "5990    632      60  2022         4  \n",
       "5991    633      60  2022         4  \n",
       "5992    634      60  2022         4  \n",
       "\n",
       "[5807 rows x 12 columns]"
      ]
     },
     "execution_count": 11,
     "metadata": {},
     "output_type": "execute_result"
    }
   ],
   "source": [
    "df_budget"
   ]
  },
  {
   "cell_type": "code",
   "execution_count": 12,
   "metadata": {},
   "outputs": [
    {
     "name": "stderr",
     "output_type": "stream",
     "text": [
      "/var/folders/23/rcv81wbj68b4cdb5ycs5jp180000gn/T/ipykernel_1962/3190022759.py:2: SettingWithCopyWarning: \n",
      "A value is trying to be set on a copy of a slice from a DataFrame\n",
      "\n",
      "See the caveats in the documentation: https://pandas.pydata.org/pandas-docs/stable/user_guide/indexing.html#returning-a-view-versus-a-copy\n",
      "  df_fz.drop_duplicates(inplace = True)\n"
     ]
    }
   ],
   "source": [
    "df_fz = df_budget[['fz','fz_txt']]\n",
    "df_fz.drop_duplicates(inplace = True)"
   ]
  },
  {
   "cell_type": "code",
   "execution_count": 13,
   "metadata": {},
   "outputs": [
    {
     "name": "stderr",
     "output_type": "stream",
     "text": [
      "/var/folders/23/rcv81wbj68b4cdb5ycs5jp180000gn/T/ipykernel_1962/389507899.py:2: SettingWithCopyWarning: \n",
      "A value is trying to be set on a copy of a slice from a DataFrame\n",
      "\n",
      "See the caveats in the documentation: https://pandas.pydata.org/pandas-docs/stable/user_guide/indexing.html#returning-a-view-versus-a-copy\n",
      "  df_ep_txt.drop_duplicates(inplace=True)\n"
     ]
    }
   ],
   "source": [
    "df_ep_txt = df_budget[['ep','ep_txt','jahr','state_id']]\n",
    "df_ep_txt.drop_duplicates(inplace=True)"
   ]
  },
  {
   "cell_type": "code",
   "execution_count": 14,
   "metadata": {},
   "outputs": [
    {
     "name": "stderr",
     "output_type": "stream",
     "text": [
      "/var/folders/23/rcv81wbj68b4cdb5ycs5jp180000gn/T/ipykernel_1962/3388781557.py:2: SettingWithCopyWarning: \n",
      "A value is trying to be set on a copy of a slice from a DataFrame\n",
      "\n",
      "See the caveats in the documentation: https://pandas.pydata.org/pandas-docs/stable/user_guide/indexing.html#returning-a-view-versus-a-copy\n",
      "  df_kapitel_txt.drop_duplicates(inplace=True)\n"
     ]
    }
   ],
   "source": [
    "df_kapitel_txt = df_budget[['ep','kapitel','kapitel_txt','jahr','state_id']]\n",
    "df_kapitel_txt.drop_duplicates(inplace=True)"
   ]
  },
  {
   "attachments": {},
   "cell_type": "markdown",
   "metadata": {},
   "source": [
    "upload bundeslaender brb"
   ]
  },
  {
   "cell_type": "code",
   "execution_count": 16,
   "metadata": {},
   "outputs": [
    {
     "name": "stderr",
     "output_type": "stream",
     "text": [
      "/var/folders/23/rcv81wbj68b4cdb5ycs5jp180000gn/T/ipykernel_1962/2915164764.py:1: SettingWithCopyWarning: \n",
      "A value is trying to be set on a copy of a slice from a DataFrame\n",
      "\n",
      "See the caveats in the documentation: https://pandas.pydata.org/pandas-docs/stable/user_guide/indexing.html#returning-a-view-versus-a-copy\n",
      "  df_fz.rename(columns={\"fz\":\"fkz\", \"fz_txt\":\"fkz_txt\"}, inplace=True)\n"
     ]
    }
   ],
   "source": [
    "df_fz.rename(columns={\"fz\":\"fkz\", \"fz_txt\":\"fkz_txt\"}, inplace=True)"
   ]
  },
  {
   "cell_type": "code",
   "execution_count": 18,
   "metadata": {},
   "outputs": [],
   "source": [
    "get_sql_config()\n",
    "engine = get_engine()\n"
   ]
  },
  {
   "cell_type": "code",
   "execution_count": 19,
   "metadata": {},
   "outputs": [
    {
     "name": "stdout",
     "output_type": "stream",
     "text": [
      "The funktionsbezeichnungen table was imported successfully.\n"
     ]
    }
   ],
   "source": [
    "#push_to_database(df_fz, \"funktionsbezeichnungen\", engine, \"capstone_public_budgeting\")"
   ]
  },
  {
   "cell_type": "code",
   "execution_count": 23,
   "metadata": {},
   "outputs": [
    {
     "name": "stderr",
     "output_type": "stream",
     "text": [
      "/var/folders/23/rcv81wbj68b4cdb5ycs5jp180000gn/T/ipykernel_1962/181164097.py:1: SettingWithCopyWarning: \n",
      "A value is trying to be set on a copy of a slice from a DataFrame\n",
      "\n",
      "See the caveats in the documentation: https://pandas.pydata.org/pandas-docs/stable/user_guide/indexing.html#returning-a-view-versus-a-copy\n",
      "  df_ep_txt.rename(columns={\"jahr\":\"year\"}, inplace=True)\n"
     ]
    }
   ],
   "source": [
    "df_ep_txt.rename(columns={\"jahr\":\"year\"}, inplace=True)"
   ]
  },
  {
   "cell_type": "code",
   "execution_count": 25,
   "metadata": {},
   "outputs": [
    {
     "name": "stdout",
     "output_type": "stream",
     "text": [
      "The einzelplaene table was imported successfully.\n"
     ]
    }
   ],
   "source": [
    "#push_to_database(df_ep_txt, \"einzelplaene\", engine, \"capstone_public_budgeting\")"
   ]
  },
  {
   "cell_type": "code",
   "execution_count": 34,
   "metadata": {},
   "outputs": [
    {
     "data": {
      "text/html": [
       "<div>\n",
       "<style scoped>\n",
       "    .dataframe tbody tr th:only-of-type {\n",
       "        vertical-align: middle;\n",
       "    }\n",
       "\n",
       "    .dataframe tbody tr th {\n",
       "        vertical-align: top;\n",
       "    }\n",
       "\n",
       "    .dataframe thead th {\n",
       "        text-align: right;\n",
       "    }\n",
       "</style>\n",
       "<table border=\"1\" class=\"dataframe\">\n",
       "  <thead>\n",
       "    <tr style=\"text-align: right;\">\n",
       "      <th></th>\n",
       "      <th>ep</th>\n",
       "      <th>ep_txt</th>\n",
       "      <th>year</th>\n",
       "      <th>state_id</th>\n",
       "    </tr>\n",
       "  </thead>\n",
       "  <tbody>\n",
       "    <tr>\n",
       "      <th>0</th>\n",
       "      <td>01</td>\n",
       "      <td>Landtag</td>\n",
       "      <td>2022</td>\n",
       "      <td>4</td>\n",
       "    </tr>\n",
       "    <tr>\n",
       "      <th>215</th>\n",
       "      <td>02</td>\n",
       "      <td>Ministerpräsidentin, Ministerpräsident und Sta...</td>\n",
       "      <td>2022</td>\n",
       "      <td>4</td>\n",
       "    </tr>\n",
       "    <tr>\n",
       "      <th>389</th>\n",
       "      <td>03</td>\n",
       "      <td>Ministerium des Innern und für Kommunales</td>\n",
       "      <td>2022</td>\n",
       "      <td>4</td>\n",
       "    </tr>\n",
       "    <tr>\n",
       "      <th>963</th>\n",
       "      <td>04</td>\n",
       "      <td>Ministerium der Justiz</td>\n",
       "      <td>2022</td>\n",
       "      <td>4</td>\n",
       "    </tr>\n",
       "    <tr>\n",
       "      <th>1699</th>\n",
       "      <td>05</td>\n",
       "      <td>Ministerium für Bildung, Jugend und Sport</td>\n",
       "      <td>2022</td>\n",
       "      <td>4</td>\n",
       "    </tr>\n",
       "    <tr>\n",
       "      <th>2191</th>\n",
       "      <td>06</td>\n",
       "      <td>Ministerium für Wissenschaft, Forschung und Ku...</td>\n",
       "      <td>2022</td>\n",
       "      <td>4</td>\n",
       "    </tr>\n",
       "    <tr>\n",
       "      <th>2630</th>\n",
       "      <td>07</td>\n",
       "      <td>Ministerium für Soziales, Gesundheit, Integrat...</td>\n",
       "      <td>2022</td>\n",
       "      <td>4</td>\n",
       "    </tr>\n",
       "    <tr>\n",
       "      <th>3324</th>\n",
       "      <td>08</td>\n",
       "      <td>Ministerium für Wirtschaft, Arbeit und Energie</td>\n",
       "      <td>2022</td>\n",
       "      <td>4</td>\n",
       "    </tr>\n",
       "    <tr>\n",
       "      <th>3843</th>\n",
       "      <td>10</td>\n",
       "      <td>Ministerium für Landwirtschaft, Umwelt und Kli...</td>\n",
       "      <td>2022</td>\n",
       "      <td>4</td>\n",
       "    </tr>\n",
       "    <tr>\n",
       "      <th>4728</th>\n",
       "      <td>11</td>\n",
       "      <td>Ministerium für Infrastruktur und Landesplanung</td>\n",
       "      <td>2022</td>\n",
       "      <td>4</td>\n",
       "    </tr>\n",
       "    <tr>\n",
       "      <th>5086</th>\n",
       "      <td>12</td>\n",
       "      <td>Ministerium der Finanzen und für Europa</td>\n",
       "      <td>2022</td>\n",
       "      <td>4</td>\n",
       "    </tr>\n",
       "    <tr>\n",
       "      <th>5520</th>\n",
       "      <td>13</td>\n",
       "      <td>Landesrechnungshof</td>\n",
       "      <td>2022</td>\n",
       "      <td>4</td>\n",
       "    </tr>\n",
       "    <tr>\n",
       "      <th>5568</th>\n",
       "      <td>14</td>\n",
       "      <td>Verfassungsgericht des Landes Brandenburg</td>\n",
       "      <td>2022</td>\n",
       "      <td>4</td>\n",
       "    </tr>\n",
       "    <tr>\n",
       "      <th>5609</th>\n",
       "      <td>20</td>\n",
       "      <td>Allgemeine Finanzverwaltung</td>\n",
       "      <td>2022</td>\n",
       "      <td>4</td>\n",
       "    </tr>\n",
       "  </tbody>\n",
       "</table>\n",
       "</div>"
      ],
      "text/plain": [
       "      ep                                             ep_txt  year  state_id\n",
       "0     01                                            Landtag  2022         4\n",
       "215   02  Ministerpräsidentin, Ministerpräsident und Sta...  2022         4\n",
       "389   03          Ministerium des Innern und für Kommunales  2022         4\n",
       "963   04                             Ministerium der Justiz  2022         4\n",
       "1699  05          Ministerium für Bildung, Jugend und Sport  2022         4\n",
       "2191  06  Ministerium für Wissenschaft, Forschung und Ku...  2022         4\n",
       "2630  07  Ministerium für Soziales, Gesundheit, Integrat...  2022         4\n",
       "3324  08     Ministerium für Wirtschaft, Arbeit und Energie  2022         4\n",
       "3843  10  Ministerium für Landwirtschaft, Umwelt und Kli...  2022         4\n",
       "4728  11    Ministerium für Infrastruktur und Landesplanung  2022         4\n",
       "5086  12            Ministerium der Finanzen und für Europa  2022         4\n",
       "5520  13                                 Landesrechnungshof  2022         4\n",
       "5568  14          Verfassungsgericht des Landes Brandenburg  2022         4\n",
       "5609  20                        Allgemeine Finanzverwaltung  2022         4"
      ]
     },
     "execution_count": 34,
     "metadata": {},
     "output_type": "execute_result"
    }
   ],
   "source": [
    "df_ep_txt"
   ]
  },
  {
   "cell_type": "code",
   "execution_count": 27,
   "metadata": {},
   "outputs": [
    {
     "name": "stderr",
     "output_type": "stream",
     "text": [
      "/var/folders/23/rcv81wbj68b4cdb5ycs5jp180000gn/T/ipykernel_1962/3686903904.py:1: SettingWithCopyWarning: \n",
      "A value is trying to be set on a copy of a slice from a DataFrame\n",
      "\n",
      "See the caveats in the documentation: https://pandas.pydata.org/pandas-docs/stable/user_guide/indexing.html#returning-a-view-versus-a-copy\n",
      "  df_kapitel_txt.rename(columns={\"jahr\":\"year\"}, inplace=True)\n"
     ]
    }
   ],
   "source": [
    "df_kapitel_txt.rename(columns={\"jahr\":\"year\"}, inplace=True)"
   ]
  },
  {
   "cell_type": "code",
   "execution_count": 28,
   "metadata": {},
   "outputs": [
    {
     "name": "stdout",
     "output_type": "stream",
     "text": [
      "The kapitel table was imported successfully.\n"
     ]
    }
   ],
   "source": [
    "#push_to_database(df_kapitel_txt, \"kapitel\", engine, \"capstone_public_budgeting\")"
   ]
  },
  {
   "cell_type": "code",
   "execution_count": 32,
   "metadata": {},
   "outputs": [
    {
     "data": {
      "text/html": [
       "<div>\n",
       "<style scoped>\n",
       "    .dataframe tbody tr th:only-of-type {\n",
       "        vertical-align: middle;\n",
       "    }\n",
       "\n",
       "    .dataframe tbody tr th {\n",
       "        vertical-align: top;\n",
       "    }\n",
       "\n",
       "    .dataframe thead th {\n",
       "        text-align: right;\n",
       "    }\n",
       "</style>\n",
       "<table border=\"1\" class=\"dataframe\">\n",
       "  <thead>\n",
       "    <tr style=\"text-align: right;\">\n",
       "      <th></th>\n",
       "      <th>ep</th>\n",
       "      <th>kapitel</th>\n",
       "      <th>fkz</th>\n",
       "      <th>zweckbestimmung</th>\n",
       "      <th>amount</th>\n",
       "      <th>gruppe</th>\n",
       "      <th>counter</th>\n",
       "      <th>year</th>\n",
       "      <th>state_id</th>\n",
       "    </tr>\n",
       "  </thead>\n",
       "  <tbody>\n",
       "    <tr>\n",
       "      <th>0</th>\n",
       "      <td>01</td>\n",
       "      <td>010</td>\n",
       "      <td>011</td>\n",
       "      <td>Gebühren, sonstige Entgelte</td>\n",
       "      <td>1000</td>\n",
       "      <td>111</td>\n",
       "      <td>10</td>\n",
       "      <td>2022</td>\n",
       "      <td>4</td>\n",
       "    </tr>\n",
       "    <tr>\n",
       "      <th>1</th>\n",
       "      <td>01</td>\n",
       "      <td>010</td>\n",
       "      <td>011</td>\n",
       "      <td>Geldstrafen, Geldbußen und Zwangsgelder (einsc...</td>\n",
       "      <td>1000</td>\n",
       "      <td>112</td>\n",
       "      <td>10</td>\n",
       "      <td>2022</td>\n",
       "      <td>4</td>\n",
       "    </tr>\n",
       "    <tr>\n",
       "      <th>2</th>\n",
       "      <td>01</td>\n",
       "      <td>010</td>\n",
       "      <td>011</td>\n",
       "      <td>Sonstige Verwaltungseinnahmen</td>\n",
       "      <td>1000</td>\n",
       "      <td>119</td>\n",
       "      <td>10</td>\n",
       "      <td>2022</td>\n",
       "      <td>4</td>\n",
       "    </tr>\n",
       "    <tr>\n",
       "      <th>3</th>\n",
       "      <td>01</td>\n",
       "      <td>010</td>\n",
       "      <td>011</td>\n",
       "      <td>Einnahmen aus Veröffentlichungen</td>\n",
       "      <td>2000</td>\n",
       "      <td>119</td>\n",
       "      <td>20</td>\n",
       "      <td>2022</td>\n",
       "      <td>4</td>\n",
       "    </tr>\n",
       "    <tr>\n",
       "      <th>4</th>\n",
       "      <td>01</td>\n",
       "      <td>010</td>\n",
       "      <td>012</td>\n",
       "      <td>Umsatzsteuererstattung des Finanzamtes</td>\n",
       "      <td>0</td>\n",
       "      <td>119</td>\n",
       "      <td>22</td>\n",
       "      <td>2022</td>\n",
       "      <td>4</td>\n",
       "    </tr>\n",
       "    <tr>\n",
       "      <th>...</th>\n",
       "      <td>...</td>\n",
       "      <td>...</td>\n",
       "      <td>...</td>\n",
       "      <td>...</td>\n",
       "      <td>...</td>\n",
       "      <td>...</td>\n",
       "      <td>...</td>\n",
       "      <td>...</td>\n",
       "      <td>...</td>\n",
       "    </tr>\n",
       "    <tr>\n",
       "      <th>5988</th>\n",
       "      <td>20</td>\n",
       "      <td>710</td>\n",
       "      <td>813</td>\n",
       "      <td>Zuführung an das Sondervermögen \"Versorgungsfo...</td>\n",
       "      <td>0</td>\n",
       "      <td>919</td>\n",
       "      <td>35</td>\n",
       "      <td>2022</td>\n",
       "      <td>4</td>\n",
       "    </tr>\n",
       "    <tr>\n",
       "      <th>5989</th>\n",
       "      <td>20</td>\n",
       "      <td>710</td>\n",
       "      <td>018</td>\n",
       "      <td>Erstattungen von Versorgungsbezügen an den Bund</td>\n",
       "      <td>-600000</td>\n",
       "      <td>631</td>\n",
       "      <td>60</td>\n",
       "      <td>2022</td>\n",
       "      <td>4</td>\n",
       "    </tr>\n",
       "    <tr>\n",
       "      <th>5990</th>\n",
       "      <td>20</td>\n",
       "      <td>710</td>\n",
       "      <td>018</td>\n",
       "      <td>Erstattungen von Versorgungsbezügen an die Länder</td>\n",
       "      <td>-3360000</td>\n",
       "      <td>632</td>\n",
       "      <td>60</td>\n",
       "      <td>2022</td>\n",
       "      <td>4</td>\n",
       "    </tr>\n",
       "    <tr>\n",
       "      <th>5991</th>\n",
       "      <td>20</td>\n",
       "      <td>710</td>\n",
       "      <td>018</td>\n",
       "      <td>Erstattungen von Versorgungsbezügen an Gemeind...</td>\n",
       "      <td>-10000</td>\n",
       "      <td>633</td>\n",
       "      <td>60</td>\n",
       "      <td>2022</td>\n",
       "      <td>4</td>\n",
       "    </tr>\n",
       "    <tr>\n",
       "      <th>5992</th>\n",
       "      <td>20</td>\n",
       "      <td>710</td>\n",
       "      <td>018</td>\n",
       "      <td>Erstattungen von Versorgungsbezügen an \"Sonstige\"</td>\n",
       "      <td>-50000</td>\n",
       "      <td>634</td>\n",
       "      <td>60</td>\n",
       "      <td>2022</td>\n",
       "      <td>4</td>\n",
       "    </tr>\n",
       "  </tbody>\n",
       "</table>\n",
       "<p>5807 rows × 9 columns</p>\n",
       "</div>"
      ],
      "text/plain": [
       "      ep kapitel  fkz                                    zweckbestimmung  \\\n",
       "0     01     010  011                        Gebühren, sonstige Entgelte   \n",
       "1     01     010  011  Geldstrafen, Geldbußen und Zwangsgelder (einsc...   \n",
       "2     01     010  011                      Sonstige Verwaltungseinnahmen   \n",
       "3     01     010  011                   Einnahmen aus Veröffentlichungen   \n",
       "4     01     010  012             Umsatzsteuererstattung des Finanzamtes   \n",
       "...   ..     ...  ...                                                ...   \n",
       "5988  20     710  813  Zuführung an das Sondervermögen \"Versorgungsfo...   \n",
       "5989  20     710  018    Erstattungen von Versorgungsbezügen an den Bund   \n",
       "5990  20     710  018  Erstattungen von Versorgungsbezügen an die Länder   \n",
       "5991  20     710  018  Erstattungen von Versorgungsbezügen an Gemeind...   \n",
       "5992  20     710  018  Erstattungen von Versorgungsbezügen an \"Sonstige\"   \n",
       "\n",
       "       amount gruppe counter  year  state_id  \n",
       "0        1000    111      10  2022         4  \n",
       "1        1000    112      10  2022         4  \n",
       "2        1000    119      10  2022         4  \n",
       "3        2000    119      20  2022         4  \n",
       "4           0    119      22  2022         4  \n",
       "...       ...    ...     ...   ...       ...  \n",
       "5988        0    919      35  2022         4  \n",
       "5989  -600000    631      60  2022         4  \n",
       "5990 -3360000    632      60  2022         4  \n",
       "5991   -10000    633      60  2022         4  \n",
       "5992   -50000    634      60  2022         4  \n",
       "\n",
       "[5807 rows x 9 columns]"
      ]
     },
     "execution_count": 32,
     "metadata": {},
     "output_type": "execute_result"
    }
   ],
   "source": [
    "#df_budget = df_budget.drop(['ep_txt', 'kapitel_txt', 'fz_txt'], axis=1)\n",
    "df_budget.rename(columns={'ansatz_2022_in_eur':'amount', 'fz':'fkz', 'jahr':'year'}, inplace=True)\n",
    "df_budget"
   ]
  },
  {
   "cell_type": "code",
   "execution_count": 33,
   "metadata": {},
   "outputs": [
    {
     "name": "stdout",
     "output_type": "stream",
     "text": [
      "The budget_all table was imported successfully.\n"
     ]
    }
   ],
   "source": [
    "#push_to_database(df_budget, \"budget_all\", engine, \"capstone_public_budgeting\")"
   ]
  }
 ],
 "metadata": {
  "kernelspec": {
   "display_name": "nf_sql",
   "language": "python",
   "name": "python3"
  },
  "language_info": {
   "codemirror_mode": {
    "name": "ipython",
    "version": 3
   },
   "file_extension": ".py",
   "mimetype": "text/x-python",
   "name": "python",
   "nbconvert_exporter": "python",
   "pygments_lexer": "ipython3",
   "version": "3.9.13 (main, Oct 13 2022, 16:12:19) \n[Clang 12.0.0 ]"
  },
  "orig_nbformat": 4,
  "vscode": {
   "interpreter": {
    "hash": "a81d278bed5b5b59425dcb5a82ce505657686243c184b4a6b67e69d01c4d432e"
   }
  }
 },
 "nbformat": 4,
 "nbformat_minor": 2
}
