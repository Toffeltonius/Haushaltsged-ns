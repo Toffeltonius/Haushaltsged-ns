{
 "cells": [
  {
   "cell_type": "code",
   "execution_count": 1,
   "metadata": {},
   "outputs": [],
   "source": [
    "import pandas as pd\n",
    "import sqlalchemy as sql"
   ]
  },
  {
   "cell_type": "code",
   "execution_count": 2,
   "metadata": {},
   "outputs": [],
   "source": [
    "df_budget = pd.read_excel('data/brb_2022.xlsm')"
   ]
  },
  {
   "cell_type": "code",
   "execution_count": 3,
   "metadata": {},
   "outputs": [],
   "source": [
    "df_budget.columns = df_budget.columns.str.replace(\" \", \"_\")\n",
    "df_budget.columns = df_budget.columns.str.lower()"
   ]
  },
  {
   "cell_type": "code",
   "execution_count": 4,
   "metadata": {},
   "outputs": [],
   "source": [
    "df_budget.rename(columns = {'bezeichnung':'ep_txt', 'bezeichnung.1':'kapitel_txt', 'bezeichnung_fz' : 'fz_txt' }, inplace = True)"
   ]
  },
  {
   "cell_type": "code",
   "execution_count": 5,
   "metadata": {},
   "outputs": [],
   "source": [
    "df_budget['ep'] = df_budget['ep'].astype(str)\n",
    "df_budget['ep'] = df_budget['ep'].apply(lambda x:x.zfill(2))\n",
    "df_budget['kapitel'] = df_budget['kapitel'].astype(str)\n",
    "df_budget['kapitel'] = df_budget['kapitel'].str[-3:]\n",
    "df_budget['titel'] = df_budget['titel'].astype(str)\n",
    "df_budget['titel'] = df_budget['titel'].apply(lambda x:x.zfill(5))\n",
    "df_budget['fz'] = df_budget['fz'].astype(str)\n",
    "df_budget['fz'] = df_budget['fz'].apply(lambda x:x.zfill(3))\n"
   ]
  },
  {
   "cell_type": "code",
   "execution_count": 6,
   "metadata": {},
   "outputs": [],
   "source": [
    "df_budget.dropna(subset=['ansatz_2022_in_eur'],inplace=True)\n",
    "df_budget.ansatz_2022_in_eur = df_budget.ansatz_2022_in_eur.apply(lambda x: int(x))\n"
   ]
  },
  {
   "cell_type": "code",
   "execution_count": 7,
   "metadata": {},
   "outputs": [],
   "source": [
    "df_budget[\"gruppe\"] = df_budget[\"titel\"].str[:3]\n",
    "df_budget[\"counter\"] = df_budget[\"titel\"].str[3:]"
   ]
  },
  {
   "cell_type": "code",
   "execution_count": 8,
   "metadata": {},
   "outputs": [],
   "source": [
    "df_budget = df_budget.drop(['tgr./mgr.','bezeichnung.2','titel','ansatz_2021_in_eur','ea'], axis=1)"
   ]
  },
  {
   "cell_type": "code",
   "execution_count": 9,
   "metadata": {},
   "outputs": [],
   "source": [
    "df_budget['ansatz_2022_in_eur'] =df_budget[['ansatz_2022_in_eur', 'gruppe']].apply(lambda x:-x[0] if int(x[1]) > 400 else x[0], axis=1)"
   ]
  },
  {
   "cell_type": "code",
   "execution_count": 10,
   "metadata": {},
   "outputs": [],
   "source": [
    "df_budget.insert(len(df_budget.columns),\"jahr\", 2022)\n",
    "df_budget.insert(len(df_budget.columns),\"state_id\", 4)"
   ]
  },
  {
   "cell_type": "code",
   "execution_count": 11,
   "metadata": {},
   "outputs": [
    {
     "data": {
      "text/html": [
       "<div>\n",
       "<style scoped>\n",
       "    .dataframe tbody tr th:only-of-type {\n",
       "        vertical-align: middle;\n",
       "    }\n",
       "\n",
       "    .dataframe tbody tr th {\n",
       "        vertical-align: top;\n",
       "    }\n",
       "\n",
       "    .dataframe thead th {\n",
       "        text-align: right;\n",
       "    }\n",
       "</style>\n",
       "<table border=\"1\" class=\"dataframe\">\n",
       "  <thead>\n",
       "    <tr style=\"text-align: right;\">\n",
       "      <th></th>\n",
       "      <th>ep</th>\n",
       "      <th>ep_txt</th>\n",
       "      <th>kapitel</th>\n",
       "      <th>kapitel_txt</th>\n",
       "      <th>fz</th>\n",
       "      <th>fz_txt</th>\n",
       "      <th>zweckbestimmung</th>\n",
       "      <th>ansatz_2022_in_eur</th>\n",
       "      <th>gruppe</th>\n",
       "      <th>counter</th>\n",
       "      <th>jahr</th>\n",
       "      <th>state_id</th>\n",
       "    </tr>\n",
       "  </thead>\n",
       "  <tbody>\n",
       "    <tr>\n",
       "      <th>0</th>\n",
       "      <td>01</td>\n",
       "      <td>Landtag</td>\n",
       "      <td>010</td>\n",
       "      <td>Landtag Brandenburg</td>\n",
       "      <td>011</td>\n",
       "      <td>Politische Führung</td>\n",
       "      <td>Gebühren, sonstige Entgelte</td>\n",
       "      <td>1000</td>\n",
       "      <td>111</td>\n",
       "      <td>10</td>\n",
       "      <td>2022</td>\n",
       "      <td>4</td>\n",
       "    </tr>\n",
       "    <tr>\n",
       "      <th>1</th>\n",
       "      <td>01</td>\n",
       "      <td>Landtag</td>\n",
       "      <td>010</td>\n",
       "      <td>Landtag Brandenburg</td>\n",
       "      <td>011</td>\n",
       "      <td>Politische Führung</td>\n",
       "      <td>Geldstrafen, Geldbußen und Zwangsgelder (einsc...</td>\n",
       "      <td>1000</td>\n",
       "      <td>112</td>\n",
       "      <td>10</td>\n",
       "      <td>2022</td>\n",
       "      <td>4</td>\n",
       "    </tr>\n",
       "    <tr>\n",
       "      <th>2</th>\n",
       "      <td>01</td>\n",
       "      <td>Landtag</td>\n",
       "      <td>010</td>\n",
       "      <td>Landtag Brandenburg</td>\n",
       "      <td>011</td>\n",
       "      <td>Politische Führung</td>\n",
       "      <td>Sonstige Verwaltungseinnahmen</td>\n",
       "      <td>1000</td>\n",
       "      <td>119</td>\n",
       "      <td>10</td>\n",
       "      <td>2022</td>\n",
       "      <td>4</td>\n",
       "    </tr>\n",
       "    <tr>\n",
       "      <th>3</th>\n",
       "      <td>01</td>\n",
       "      <td>Landtag</td>\n",
       "      <td>010</td>\n",
       "      <td>Landtag Brandenburg</td>\n",
       "      <td>011</td>\n",
       "      <td>Politische Führung</td>\n",
       "      <td>Einnahmen aus Veröffentlichungen</td>\n",
       "      <td>2000</td>\n",
       "      <td>119</td>\n",
       "      <td>20</td>\n",
       "      <td>2022</td>\n",
       "      <td>4</td>\n",
       "    </tr>\n",
       "    <tr>\n",
       "      <th>4</th>\n",
       "      <td>01</td>\n",
       "      <td>Landtag</td>\n",
       "      <td>010</td>\n",
       "      <td>Landtag Brandenburg</td>\n",
       "      <td>012</td>\n",
       "      <td>Innere Verwaltung</td>\n",
       "      <td>Umsatzsteuererstattung des Finanzamtes</td>\n",
       "      <td>0</td>\n",
       "      <td>119</td>\n",
       "      <td>22</td>\n",
       "      <td>2022</td>\n",
       "      <td>4</td>\n",
       "    </tr>\n",
       "    <tr>\n",
       "      <th>...</th>\n",
       "      <td>...</td>\n",
       "      <td>...</td>\n",
       "      <td>...</td>\n",
       "      <td>...</td>\n",
       "      <td>...</td>\n",
       "      <td>...</td>\n",
       "      <td>...</td>\n",
       "      <td>...</td>\n",
       "      <td>...</td>\n",
       "      <td>...</td>\n",
       "      <td>...</td>\n",
       "      <td>...</td>\n",
       "    </tr>\n",
       "    <tr>\n",
       "      <th>5988</th>\n",
       "      <td>20</td>\n",
       "      <td>Allgemeine Finanzverwaltung</td>\n",
       "      <td>710</td>\n",
       "      <td>Versorgung</td>\n",
       "      <td>813</td>\n",
       "      <td>Sondervermögen</td>\n",
       "      <td>Zuführung an das Sondervermögen \"Versorgungsfo...</td>\n",
       "      <td>0</td>\n",
       "      <td>919</td>\n",
       "      <td>35</td>\n",
       "      <td>2022</td>\n",
       "      <td>4</td>\n",
       "    </tr>\n",
       "    <tr>\n",
       "      <th>5989</th>\n",
       "      <td>20</td>\n",
       "      <td>Allgemeine Finanzverwaltung</td>\n",
       "      <td>710</td>\n",
       "      <td>Versorgung</td>\n",
       "      <td>018</td>\n",
       "      <td>Versorgung einschließlich Beihilfen für Versor...</td>\n",
       "      <td>Erstattungen von Versorgungsbezügen an den Bund</td>\n",
       "      <td>-600000</td>\n",
       "      <td>631</td>\n",
       "      <td>60</td>\n",
       "      <td>2022</td>\n",
       "      <td>4</td>\n",
       "    </tr>\n",
       "    <tr>\n",
       "      <th>5990</th>\n",
       "      <td>20</td>\n",
       "      <td>Allgemeine Finanzverwaltung</td>\n",
       "      <td>710</td>\n",
       "      <td>Versorgung</td>\n",
       "      <td>018</td>\n",
       "      <td>Versorgung einschließlich Beihilfen für Versor...</td>\n",
       "      <td>Erstattungen von Versorgungsbezügen an die Länder</td>\n",
       "      <td>-3360000</td>\n",
       "      <td>632</td>\n",
       "      <td>60</td>\n",
       "      <td>2022</td>\n",
       "      <td>4</td>\n",
       "    </tr>\n",
       "    <tr>\n",
       "      <th>5991</th>\n",
       "      <td>20</td>\n",
       "      <td>Allgemeine Finanzverwaltung</td>\n",
       "      <td>710</td>\n",
       "      <td>Versorgung</td>\n",
       "      <td>018</td>\n",
       "      <td>Versorgung einschließlich Beihilfen für Versor...</td>\n",
       "      <td>Erstattungen von Versorgungsbezügen an Gemeind...</td>\n",
       "      <td>-10000</td>\n",
       "      <td>633</td>\n",
       "      <td>60</td>\n",
       "      <td>2022</td>\n",
       "      <td>4</td>\n",
       "    </tr>\n",
       "    <tr>\n",
       "      <th>5992</th>\n",
       "      <td>20</td>\n",
       "      <td>Allgemeine Finanzverwaltung</td>\n",
       "      <td>710</td>\n",
       "      <td>Versorgung</td>\n",
       "      <td>018</td>\n",
       "      <td>Versorgung einschließlich Beihilfen für Versor...</td>\n",
       "      <td>Erstattungen von Versorgungsbezügen an \"Sonstige\"</td>\n",
       "      <td>-50000</td>\n",
       "      <td>634</td>\n",
       "      <td>60</td>\n",
       "      <td>2022</td>\n",
       "      <td>4</td>\n",
       "    </tr>\n",
       "  </tbody>\n",
       "</table>\n",
       "<p>5807 rows × 12 columns</p>\n",
       "</div>"
      ],
      "text/plain": [
       "      ep                       ep_txt kapitel          kapitel_txt   fz  \\\n",
       "0     01                      Landtag     010  Landtag Brandenburg  011   \n",
       "1     01                      Landtag     010  Landtag Brandenburg  011   \n",
       "2     01                      Landtag     010  Landtag Brandenburg  011   \n",
       "3     01                      Landtag     010  Landtag Brandenburg  011   \n",
       "4     01                      Landtag     010  Landtag Brandenburg  012   \n",
       "...   ..                          ...     ...                  ...  ...   \n",
       "5988  20  Allgemeine Finanzverwaltung     710           Versorgung  813   \n",
       "5989  20  Allgemeine Finanzverwaltung     710           Versorgung  018   \n",
       "5990  20  Allgemeine Finanzverwaltung     710           Versorgung  018   \n",
       "5991  20  Allgemeine Finanzverwaltung     710           Versorgung  018   \n",
       "5992  20  Allgemeine Finanzverwaltung     710           Versorgung  018   \n",
       "\n",
       "                                                 fz_txt  \\\n",
       "0                                    Politische Führung   \n",
       "1                                    Politische Führung   \n",
       "2                                    Politische Führung   \n",
       "3                                    Politische Führung   \n",
       "4                                     Innere Verwaltung   \n",
       "...                                                 ...   \n",
       "5988                                     Sondervermögen   \n",
       "5989  Versorgung einschließlich Beihilfen für Versor...   \n",
       "5990  Versorgung einschließlich Beihilfen für Versor...   \n",
       "5991  Versorgung einschließlich Beihilfen für Versor...   \n",
       "5992  Versorgung einschließlich Beihilfen für Versor...   \n",
       "\n",
       "                                        zweckbestimmung  ansatz_2022_in_eur  \\\n",
       "0                           Gebühren, sonstige Entgelte                1000   \n",
       "1     Geldstrafen, Geldbußen und Zwangsgelder (einsc...                1000   \n",
       "2                         Sonstige Verwaltungseinnahmen                1000   \n",
       "3                      Einnahmen aus Veröffentlichungen                2000   \n",
       "4                Umsatzsteuererstattung des Finanzamtes                   0   \n",
       "...                                                 ...                 ...   \n",
       "5988  Zuführung an das Sondervermögen \"Versorgungsfo...                   0   \n",
       "5989    Erstattungen von Versorgungsbezügen an den Bund             -600000   \n",
       "5990  Erstattungen von Versorgungsbezügen an die Länder            -3360000   \n",
       "5991  Erstattungen von Versorgungsbezügen an Gemeind...              -10000   \n",
       "5992  Erstattungen von Versorgungsbezügen an \"Sonstige\"              -50000   \n",
       "\n",
       "     gruppe counter  jahr  state_id  \n",
       "0       111      10  2022         4  \n",
       "1       112      10  2022         4  \n",
       "2       119      10  2022         4  \n",
       "3       119      20  2022         4  \n",
       "4       119      22  2022         4  \n",
       "...     ...     ...   ...       ...  \n",
       "5988    919      35  2022         4  \n",
       "5989    631      60  2022         4  \n",
       "5990    632      60  2022         4  \n",
       "5991    633      60  2022         4  \n",
       "5992    634      60  2022         4  \n",
       "\n",
       "[5807 rows x 12 columns]"
      ]
     },
     "execution_count": 11,
     "metadata": {},
     "output_type": "execute_result"
    }
   ],
   "source": [
    "df_budget"
   ]
  },
  {
   "cell_type": "code",
   "execution_count": 13,
   "metadata": {},
   "outputs": [
    {
     "name": "stderr",
     "output_type": "stream",
     "text": [
      "/var/folders/rp/8t70135j493dk68133cwmvx40000gn/T/ipykernel_5600/3190022759.py:2: SettingWithCopyWarning: \n",
      "A value is trying to be set on a copy of a slice from a DataFrame\n",
      "\n",
      "See the caveats in the documentation: https://pandas.pydata.org/pandas-docs/stable/user_guide/indexing.html#returning-a-view-versus-a-copy\n",
      "  df_fz.drop_duplicates(inplace = True)\n"
     ]
    }
   ],
   "source": [
    "df_fz = df_budget[['fz','fz_txt']]\n",
    "df_fz.drop_duplicates(inplace = True)"
   ]
  },
  {
   "cell_type": "code",
   "execution_count": 14,
   "metadata": {},
   "outputs": [
    {
     "name": "stderr",
     "output_type": "stream",
     "text": [
      "/var/folders/rp/8t70135j493dk68133cwmvx40000gn/T/ipykernel_5600/389507899.py:2: SettingWithCopyWarning: \n",
      "A value is trying to be set on a copy of a slice from a DataFrame\n",
      "\n",
      "See the caveats in the documentation: https://pandas.pydata.org/pandas-docs/stable/user_guide/indexing.html#returning-a-view-versus-a-copy\n",
      "  df_ep_txt.drop_duplicates(inplace=True)\n"
     ]
    }
   ],
   "source": [
    "df_ep_txt = df_budget[['ep','ep_txt','jahr','state_id']]\n",
    "df_ep_txt.drop_duplicates(inplace=True)"
   ]
  },
  {
   "cell_type": "code",
   "execution_count": 15,
   "metadata": {},
   "outputs": [
    {
     "name": "stderr",
     "output_type": "stream",
     "text": [
      "/var/folders/rp/8t70135j493dk68133cwmvx40000gn/T/ipykernel_5600/3388781557.py:2: SettingWithCopyWarning: \n",
      "A value is trying to be set on a copy of a slice from a DataFrame\n",
      "\n",
      "See the caveats in the documentation: https://pandas.pydata.org/pandas-docs/stable/user_guide/indexing.html#returning-a-view-versus-a-copy\n",
      "  df_kapitel_txt.drop_duplicates(inplace=True)\n"
     ]
    }
   ],
   "source": [
    "df_kapitel_txt = df_budget[['ep','kapitel','kapitel_txt','jahr','state_id']]\n",
    "df_kapitel_txt.drop_duplicates(inplace=True)"
   ]
  }
 ],
 "metadata": {
  "kernelspec": {
   "display_name": "Python 3",
   "language": "python",
   "name": "python3"
  },
  "language_info": {
   "codemirror_mode": {
    "name": "ipython",
    "version": 3
   },
   "file_extension": ".py",
   "mimetype": "text/x-python",
   "name": "python",
   "nbconvert_exporter": "python",
   "pygments_lexer": "ipython3",
   "version": "3.9.13"
  },
  "orig_nbformat": 4,
  "vscode": {
   "interpreter": {
    "hash": "23079392365f892f1a2c6ee4945a9a372707884a107e0a13efa0af7ac5ca84c1"
   }
  }
 },
 "nbformat": 4,
 "nbformat_minor": 2
}
