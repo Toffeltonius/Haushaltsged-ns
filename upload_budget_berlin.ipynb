{
 "cells": [
  {
   "cell_type": "markdown",
   "metadata": {},
   "source": [
    "Import Panda und SQLalchemy"
   ]
  },
  {
   "cell_type": "code",
   "execution_count": null,
   "metadata": {},
   "outputs": [],
   "source": [
    "import pandas as pd\n",
    "import sqlalchemy as sql\n",
    "from sql_functions import get_sql_config\n",
    "from sql_functions import get_engine\n",
    "from sql_functions import push_to_database\n",
    "import psycopg2\n",
    "import numpy as np\n",
    "\n",
    "from update import update_fkz\n",
    "from update import update_group\n",
    "from update import update_sql_table"
   ]
  },
  {
   "cell_type": "markdown",
   "metadata": {},
   "source": [
    "csv-File importieren."
   ]
  },
  {
   "cell_type": "code",
   "execution_count": null,
   "metadata": {},
   "outputs": [],
   "source": [
    "df_bln = pd.read_csv(\"data/Berlin_22-23.csv\", delimiter= \",\", encoding= 'utf-8')"
   ]
  },
  {
   "cell_type": "code",
   "execution_count": null,
   "metadata": {},
   "outputs": [],
   "source": [
    "df_bln.head()"
   ]
  },
  {
   "attachments": {},
   "cell_type": "markdown",
   "metadata": {},
   "source": [
    "Columns names anpassen, Sonderzeichen entfernen"
   ]
  },
  {
   "cell_type": "code",
   "execution_count": null,
   "metadata": {},
   "outputs": [],
   "source": [
    "df_bln.columns = df_bln.columns.str.replace(\" \", \"_\")\n",
    "df_bln.columns = df_bln.columns.str.lower()"
   ]
  },
  {
   "attachments": {},
   "cell_type": "markdown",
   "metadata": {},
   "source": [
    "Drop der Columns, die nicht gebraucht werden"
   ]
  },
  {
   "cell_type": "code",
   "execution_count": null,
   "metadata": {},
   "outputs": [],
   "source": [
    "df_bln = df_bln.drop(['id','typ', 'bezeichnung', 'bereich', 'bereichsbezeichnung', \n",
    "                    'hauptgruppe','hauptgruppenbezeichnung', 'obergruppe', 'obergruppenbezeichnung',\n",
    "                    'oberfunktion', 'oberfunktionsbezeichnung', 'hauptfunktion', \n",
    "                    'hauptfunktionsbezeichnung'\n",
    "], axis=1)"
   ]
  },
  {
   "cell_type": "markdown",
   "metadata": {},
   "source": [
    "Values ins passende Format setzten und leading-0 einfügen, wo sie automatisch entfernt wurde"
   ]
  },
  {
   "cell_type": "code",
   "execution_count": null,
   "metadata": {},
   "outputs": [],
   "source": [
    "df_bln['einzelplan'] = df_bln['einzelplan'].astype(str)\n",
    "df_bln['kapitel'] = df_bln['kapitel'].astype(str)\n",
    "df_bln['funktion'] = df_bln['funktion'].astype(str)\n",
    "df_bln['titel'] = df_bln['titel'].astype(str)\n",
    "\n",
    "df_bln['titel'] = df_bln['titel'].apply(lambda x:x.zfill(5))\n",
    "df_bln['einzelplan'] = df_bln['einzelplan'].apply(lambda x:x.zfill(2))\n",
    "df_bln['kapitel'] = df_bln['kapitel'].str[-2:]\n",
    "df_bln['kapitel'] = df_bln['kapitel'].apply(lambda x:x.zfill(3))\n",
    "df_bln['fkz'] = df_bln['funktion'].apply(lambda x:x.zfill(3))\n",
    "df_bln.head()"
   ]
  },
  {
   "cell_type": "markdown",
   "metadata": {},
   "source": [
    "Titel in gruppe und counter gesplittet, gruppe und counter eingefügt"
   ]
  },
  {
   "cell_type": "code",
   "execution_count": null,
   "metadata": {},
   "outputs": [],
   "source": [
    "df_bln[\"gruppe\"] = df_bln[\"titel\"].str[:3]\n",
    "df_bln[\"counter\"] = df_bln[\"titel\"].str[3:]\n",
    "df_bln"
   ]
  },
  {
   "attachments": {},
   "cell_type": "markdown",
   "metadata": {},
   "source": [
    "jahr vorhanden -  state_id eingefügt"
   ]
  },
  {
   "cell_type": "code",
   "execution_count": null,
   "metadata": {},
   "outputs": [],
   "source": [
    "\n",
    "df_bln[\"state_id\"] =  3\n",
    "\n"
   ]
  },
  {
   "attachments": {},
   "cell_type": "markdown",
   "metadata": {},
   "source": [
    "anhand der titelart einnahmen und ausgaben in den Zahlen definiert (ginge auch mit gruppe)\n",
    "titel gedropt, da redundant"
   ]
  },
  {
   "cell_type": "code",
   "execution_count": null,
   "metadata": {},
   "outputs": [],
   "source": [
    "\n",
    "df_bln.loc[df_bln['titelart'] == 'Einnahmetitel', 'amount'] = df_bln['betrag']\n",
    "df_bln.loc[df_bln['titelart'] == 'Ausgabetitel', 'amount'] = -df_bln['betrag']\n",
    "\n",
    "df_bln = df_bln.drop(['titel','titelart', 'betragtyp'], axis=1)\n",
    "df_bln = df_bln.drop(['funktion'], axis=1)\n"
   ]
  },
  {
   "cell_type": "markdown",
   "metadata": {},
   "source": [
    "einmal angucken, da schön"
   ]
  },
  {
   "cell_type": "code",
   "execution_count": null,
   "metadata": {},
   "outputs": [],
   "source": [
    "df_bln.head(5)"
   ]
  },
  {
   "attachments": {},
   "cell_type": "markdown",
   "metadata": {},
   "source": [
    "Umbenennen von spalten für sql"
   ]
  },
  {
   "cell_type": "code",
   "execution_count": null,
   "metadata": {},
   "outputs": [],
   "source": [
    "df_bln.rename(columns = {'einzelplan' : 'ep', 'titelbezeichnung' : 'zweckbestimmung', \n",
    "                        'jahr' : 'year', 'kapitelbezeichnung' : 'kapitel_txt', \n",
    "                        'einzelplanbezeichnung' : 'ep_txt', 'gruppenbezeichnung' : 'gruppe_txt',\n",
    "                        'funktionsbezeichnung' : 'fkz_txt'\n",
    "                        }, inplace = True)"
   ]
  },
  {
   "attachments": {},
   "cell_type": "markdown",
   "metadata": {},
   "source": [
    "df_budget für den Import in budget_all aufbereiten"
   ]
  },
  {
   "cell_type": "code",
   "execution_count": null,
   "metadata": {},
   "outputs": [],
   "source": [
    "df_budget = df_bln[['ep', 'kapitel', 'fkz', 'zweckbestimmung', 'amount', \n",
    "'gruppe', 'counter', 'year', 'state_id']]\n",
    "\n"
   ]
  },
  {
   "attachments": {},
   "cell_type": "markdown",
   "metadata": {},
   "source": [
    "df_ep für den Import in einzelplaene aufbereiten"
   ]
  },
  {
   "cell_type": "code",
   "execution_count": null,
   "metadata": {},
   "outputs": [],
   "source": [
    "\n",
    "df_ep = df_bln.drop_duplicates(['ep', 'year'])\n",
    "df_ep = df_ep[['ep', 'ep_txt', 'year', 'state_id']]\n",
    "df_ep"
   ]
  },
  {
   "attachments": {},
   "cell_type": "markdown",
   "metadata": {},
   "source": [
    "df_kapitel für den Import in kapitel aufbereiten"
   ]
  },
  {
   "cell_type": "code",
   "execution_count": null,
   "metadata": {},
   "outputs": [],
   "source": [
    "df_kapitel = df_bln.drop_duplicates(['ep', 'kapitel', 'year'])\n",
    "df_kapitel = df_kapitel[['ep', 'kapitel', 'kapitel_txt', 'year', 'state_id']]"
   ]
  },
  {
   "cell_type": "code",
   "execution_count": null,
   "metadata": {},
   "outputs": [],
   "source": [
    "df_kapitel"
   ]
  },
  {
   "attachments": {},
   "cell_type": "markdown",
   "metadata": {},
   "source": [
    "Wir bereiten alles für den Push in die Database vor."
   ]
  },
  {
   "cell_type": "code",
   "execution_count": null,
   "metadata": {},
   "outputs": [],
   "source": [
    "get_sql_config()\n",
    "engine = get_engine()"
   ]
  },
  {
   "attachments": {},
   "cell_type": "markdown",
   "metadata": {},
   "source": [
    "Puschen"
   ]
  },
  {
   "cell_type": "code",
   "execution_count": null,
   "metadata": {},
   "outputs": [],
   "source": [
    "#push_to_database(df_budget, \"budget_all\", engine , \"capstone_public_budgeting\")"
   ]
  },
  {
   "cell_type": "code",
   "execution_count": null,
   "metadata": {},
   "outputs": [],
   "source": [
    "table_name = 'einzelplaene'\n",
    "update_sql_table(df_ep,table_name)\n",
    "#push_to_database(df_ep, \"einzelplaene\", engine , \"capstone_public_budgeting\")"
   ]
  },
  {
   "cell_type": "code",
   "execution_count": null,
   "metadata": {},
   "outputs": [],
   "source": [
    "table_name = 'kapitel'\n",
    "update_sql_table(df_kapitel,table_name)\n",
    "#push_to_database(df_kapitel, \"kapitel\", engine , \"capstone_public_budgeting\")"
   ]
  },
  {
   "attachments": {},
   "cell_type": "markdown",
   "metadata": {},
   "source": [
    "Gruppe und Funktionsbezeichnungen checken"
   ]
  },
  {
   "cell_type": "code",
   "execution_count": null,
   "metadata": {},
   "outputs": [],
   "source": [
    "df_gruppe = df_bln.drop_duplicates(['gruppe', 'gruppe_txt'])\n",
    "df_gruppe = df_gruppe[['gruppe', 'gruppe_txt']]\n",
    "#update_group(df_gruppe)"
   ]
  },
  {
   "cell_type": "code",
   "execution_count": null,
   "metadata": {},
   "outputs": [],
   "source": [
    "df_funktion = df_bln.drop_duplicates(['fkz', 'fkz_txt'])\n",
    "df_funktion = df_funktion[['fkz', 'fkz_txt']]\n",
    "update_fkz(df_funktion)"
   ]
  },
  {
   "cell_type": "code",
   "execution_count": null,
   "metadata": {},
   "outputs": [],
   "source": [
    "df_gruppe"
   ]
  }
 ],
 "metadata": {
  "kernelspec": {
   "display_name": "Python 3",
   "language": "python",
   "name": "python3"
  },
  "language_info": {
   "codemirror_mode": {
    "name": "ipython",
    "version": 3
   },
   "file_extension": ".py",
   "mimetype": "text/x-python",
   "name": "python",
   "nbconvert_exporter": "python",
   "pygments_lexer": "ipython3",
   "version": "3.9.13"
  },
  "orig_nbformat": 4,
  "vscode": {
   "interpreter": {
    "hash": "23079392365f892f1a2c6ee4945a9a372707884a107e0a13efa0af7ac5ca84c1"
   }
  }
 },
 "nbformat": 4,
 "nbformat_minor": 2
}
