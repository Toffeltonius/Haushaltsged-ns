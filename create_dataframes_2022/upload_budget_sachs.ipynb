{
 "cells": [
  {
   "cell_type": "code",
   "execution_count": null,
   "metadata": {},
   "outputs": [],
   "source": [
    "import pandas as pd\n",
    "import sqlalchemy as sql\n",
    "from sql_functions import get_sql_config\n",
    "from sql_functions import get_engine\n",
    "from sql_functions import push_to_database\n",
    "from update import update_sql_table\n",
    "import psycopg2"
   ]
  },
  {
   "attachments": {},
   "cell_type": "markdown",
   "metadata": {},
   "source": [
    "csv datei einlesen"
   ]
  },
  {
   "cell_type": "code",
   "execution_count": null,
   "metadata": {},
   "outputs": [],
   "source": [
    "sachsen_22 = pd.read_csv(\"data/sachsen_22.csv\", delimiter= \";\", encoding= 'windows-1252',dtype={'Titel':str})\n",
    "sachsen_22.head(20)\n",
    "sachsen_22.info()"
   ]
  },
  {
   "cell_type": "code",
   "execution_count": null,
   "metadata": {},
   "outputs": [],
   "source": [
    "sachsen_22.head(20)"
   ]
  },
  {
   "attachments": {},
   "cell_type": "markdown",
   "metadata": {},
   "source": [
    "columns struktur anpassen"
   ]
  },
  {
   "cell_type": "code",
   "execution_count": null,
   "metadata": {},
   "outputs": [],
   "source": [
    "sachsen_22.columns = sachsen_22.columns.str.replace(\" \", \"_\")\n",
    "sachsen_22.columns = sachsen_22.columns.str.lower()\n",
    "sachsen_22.head()"
   ]
  },
  {
   "cell_type": "code",
   "execution_count": null,
   "metadata": {},
   "outputs": [],
   "source": [
    "sachsen_22.rename(columns = {'einzelplan':'ep' }, inplace = True)\n",
    "sachsen_22.head()"
   ]
  },
  {
   "attachments": {},
   "cell_type": "markdown",
   "metadata": {},
   "source": [
    "Columns die nicht gebraucht werden droppen"
   ]
  },
  {
   "cell_type": "code",
   "execution_count": null,
   "metadata": {},
   "outputs": [],
   "source": [
    "sachsen_22.drop('ansatz_2021_in_t€', inplace=True, axis=1)\n"
   ]
  },
  {
   "cell_type": "code",
   "execution_count": null,
   "metadata": {},
   "outputs": [],
   "source": [
    "sachsen_22.drop('tg', inplace=True, axis=1)"
   ]
  },
  {
   "cell_type": "code",
   "execution_count": null,
   "metadata": {},
   "outputs": [],
   "source": [
    "sachsen_22.head()"
   ]
  },
  {
   "attachments": {},
   "cell_type": "markdown",
   "metadata": {},
   "source": [
    "Columns umbenennen"
   ]
  },
  {
   "cell_type": "code",
   "execution_count": null,
   "metadata": {},
   "outputs": [],
   "source": [
    "sachsen_22.rename(columns={'ansatz_2022_in_t€':'ansatz_2022_in_euro'}, inplace=True)"
   ]
  },
  {
   "cell_type": "code",
   "execution_count": null,
   "metadata": {},
   "outputs": [],
   "source": [
    "sachsen_22.tail()"
   ]
  },
  {
   "attachments": {},
   "cell_type": "markdown",
   "metadata": {},
   "source": [
    "erneut ein column gedropped"
   ]
  },
  {
   "cell_type": "code",
   "execution_count": null,
   "metadata": {},
   "outputs": [],
   "source": [
    "sachsen_22.drop('bezeichnung.2', inplace=True, axis=1)\n"
   ]
  },
  {
   "cell_type": "code",
   "execution_count": null,
   "metadata": {},
   "outputs": [],
   "source": [
    "sachsen_22.head()"
   ]
  },
  {
   "attachments": {},
   "cell_type": "markdown",
   "metadata": {},
   "source": [
    "NaN Werte in 0 umgewandelt"
   ]
  },
  {
   "cell_type": "code",
   "execution_count": null,
   "metadata": {},
   "outputs": [],
   "source": [
    "sachsen_22[\"ansatz_2022_in_euro\"] = sachsen_22[\"ansatz_2022_in_euro\"].fillna('0,0')"
   ]
  },
  {
   "cell_type": "code",
   "execution_count": null,
   "metadata": {},
   "outputs": [],
   "source": [
    "sachsen_22.head()"
   ]
  },
  {
   "attachments": {},
   "cell_type": "markdown",
   "metadata": {},
   "source": [
    "Ep (einzeplan) angepasst und vereinheitlicht"
   ]
  },
  {
   "cell_type": "code",
   "execution_count": null,
   "metadata": {},
   "outputs": [],
   "source": [
    "sachsen_22['ep'] = sachsen_22['ep'].astype(str)\n",
    "sachsen_22['ep'] = sachsen_22['ep'].apply(lambda x:x.zfill(2))"
   ]
  },
  {
   "cell_type": "code",
   "execution_count": null,
   "metadata": {},
   "outputs": [],
   "source": [
    "sachsen_22.head()"
   ]
  },
  {
   "attachments": {},
   "cell_type": "markdown",
   "metadata": {},
   "source": [
    "State-ID hinzugefügt"
   ]
  },
  {
   "cell_type": "code",
   "execution_count": null,
   "metadata": {},
   "outputs": [],
   "source": [
    "sachsen_22.insert(loc=10,\n",
    "          column='state_id',\n",
    "          value=13)\n",
    "sachsen_22.insert(loc=11,\n",
    "            column='year',\n",
    "            value=2022)"
   ]
  },
  {
   "cell_type": "code",
   "execution_count": null,
   "metadata": {},
   "outputs": [],
   "source": [
    "sachsen_22.head()"
   ]
  },
  {
   "attachments": {},
   "cell_type": "markdown",
   "metadata": {},
   "source": [
    "Struktur ders Columns strukturiert und umgewandelt in einem float und *1000 multipliziert"
   ]
  },
  {
   "cell_type": "code",
   "execution_count": null,
   "metadata": {},
   "outputs": [],
   "source": [
    "sachsen_22.ansatz_2022_in_euro = sachsen_22['ansatz_2022_in_euro'].str.replace('.', '').str.replace(\",\", \".\").astype(float)\n",
    "sachsen_22.ansatz_2022_in_euro = sachsen_22['ansatz_2022_in_euro'].apply(lambda x:int(x*1000))"
   ]
  },
  {
   "cell_type": "code",
   "execution_count": null,
   "metadata": {},
   "outputs": [],
   "source": [
    "sachsen_22.head()"
   ]
  },
  {
   "cell_type": "code",
   "execution_count": null,
   "metadata": {},
   "outputs": [],
   "source": [
    "sachsen_22.info()"
   ]
  },
  {
   "attachments": {},
   "cell_type": "markdown",
   "metadata": {},
   "source": [
    "Columns umgewandelt und strukturiert "
   ]
  },
  {
   "cell_type": "code",
   "execution_count": null,
   "metadata": {},
   "outputs": [],
   "source": [
    "sachsen_22.titel=sachsen_22.titel.astype(str)"
   ]
  },
  {
   "cell_type": "code",
   "execution_count": null,
   "metadata": {},
   "outputs": [],
   "source": [
    "sachsen_22['gruppe']=sachsen_22.titel.str[:3]"
   ]
  },
  {
   "cell_type": "code",
   "execution_count": null,
   "metadata": {},
   "outputs": [],
   "source": [
    "sachsen_22['counter']=sachsen_22.titel.str[3:]"
   ]
  },
  {
   "cell_type": "code",
   "execution_count": null,
   "metadata": {},
   "outputs": [],
   "source": [
    "sachsen_22['ansatz_2022_in_euro'] =sachsen_22[['ansatz_2022_in_euro', 'gruppe']].apply(lambda x:-x[0] if int(x[1]) > 400 else x[0], axis=1)"
   ]
  },
  {
   "cell_type": "code",
   "execution_count": null,
   "metadata": {},
   "outputs": [],
   "source": [
    "sachsen_22.head()"
   ]
  },
  {
   "attachments": {},
   "cell_type": "markdown",
   "metadata": {},
   "source": [
    "columns einnahme/ausgabe und titel gedropped"
   ]
  },
  {
   "cell_type": "code",
   "execution_count": null,
   "metadata": {},
   "outputs": [],
   "source": [
    "sachsen_22.drop('einnahme/ausgabe', inplace=True, axis=1)\n",
    "sachsen_22.drop('titel', inplace=True, axis=1)"
   ]
  },
  {
   "cell_type": "code",
   "execution_count": null,
   "metadata": {},
   "outputs": [],
   "source": [
    "sachsen_22.head()"
   ]
  },
  {
   "attachments": {},
   "cell_type": "markdown",
   "metadata": {},
   "source": [
    "Kapitel neu strukturiert und verinheitlicht"
   ]
  },
  {
   "cell_type": "code",
   "execution_count": null,
   "metadata": {},
   "outputs": [],
   "source": [
    "sachsen_22['kapitel'] = sachsen_22['kapitel'].astype(str)\n",
    "sachsen_22['kapitel'] = sachsen_22['kapitel'].str[-2:]"
   ]
  },
  {
   "cell_type": "code",
   "execution_count": null,
   "metadata": {},
   "outputs": [],
   "source": [
    "sachsen_22.tail()"
   ]
  },
  {
   "cell_type": "code",
   "execution_count": null,
   "metadata": {},
   "outputs": [],
   "source": [
    "sachsen_22['kapitel'] = sachsen_22['kapitel'].apply(lambda x:x.zfill(3))\n",
    "sachsen_22['fkz'] = sachsen_22['fkz'].astype(str)\n",
    "sachsen_22['fkz'] = sachsen_22['fkz'].apply(lambda x:x.zfill(3))"
   ]
  },
  {
   "cell_type": "code",
   "execution_count": null,
   "metadata": {},
   "outputs": [],
   "source": [
    "sachsen_22.head()\n"
   ]
  },
  {
   "attachments": {},
   "cell_type": "markdown",
   "metadata": {},
   "source": [
    "Neue DF erstellen"
   ]
  },
  {
   "cell_type": "code",
   "execution_count": null,
   "metadata": {},
   "outputs": [],
   "source": [
    "fkz_index_df = sachsen_22[['fkz','bezeichnung_fkz']].copy()"
   ]
  },
  {
   "cell_type": "code",
   "execution_count": null,
   "metadata": {},
   "outputs": [],
   "source": [
    "fkz_index_df.info()"
   ]
  },
  {
   "cell_type": "code",
   "execution_count": null,
   "metadata": {},
   "outputs": [],
   "source": [
    "\n",
    "#fkz_index_df[fkz_index_df.duplicated(['fkz', 'bezeichnung_fkz'], keep=False)]\n",
    "fkz_index_df.drop_duplicates(inplace=True)"
   ]
  },
  {
   "cell_type": "code",
   "execution_count": null,
   "metadata": {},
   "outputs": [],
   "source": [
    "fkz_index_df.info()"
   ]
  },
  {
   "cell_type": "code",
   "execution_count": null,
   "metadata": {},
   "outputs": [],
   "source": [
    "sachsen_22"
   ]
  },
  {
   "cell_type": "code",
   "execution_count": null,
   "metadata": {},
   "outputs": [],
   "source": [
    "sachsen_ep = sachsen_22[['ep','bezeichnung', 'state_id', 'year']].copy()\n",
    "sachsen_ep.rename(columns={'bezeichnung':'ep_txt'}, inplace=True)\n",
    "sachsen_ep.drop_duplicates(inplace=True)\n",
    "\n",
    "sachsen_kapitel = sachsen_22[['ep','kapitel', 'bezeichnung.1', 'state_id', 'year']].copy()\n",
    "sachsen_kapitel.rename(columns={'bezeichnung.1':'kapitel_txt'}, inplace=True)\n",
    "sachsen_kapitel.drop_duplicates(inplace=True)\n",
    "\n",
    "sachsen_22 = sachsen_22.drop(['bezeichnung', 'bezeichnung.1', 'bezeichnung_fkz'], axis=1)\n",
    "sachsen_22.rename(columns={'ansatz_2022_in_euro':'amount'}, inplace=True)\n",
    "\n",
    "sachsen_22"
   ]
  },
  {
   "cell_type": "code",
   "execution_count": null,
   "metadata": {},
   "outputs": [],
   "source": [
    "sachsen_ep"
   ]
  },
  {
   "attachments": {},
   "cell_type": "markdown",
   "metadata": {},
   "source": [
    "push it to the limit"
   ]
  },
  {
   "cell_type": "code",
   "execution_count": null,
   "metadata": {},
   "outputs": [],
   "source": [
    "get_sql_config()\n",
    "engine = get_engine()"
   ]
  },
  {
   "cell_type": "code",
   "execution_count": null,
   "metadata": {},
   "outputs": [],
   "source": [
    "table_name = 'einzelplaene'\n",
    "update_sql_table(sachsen_ep,table_name)\n",
    "#push_to_database(sachsen_ep, \"einzelplaene\", engine, \"capstone_public_budgeting\")\n"
   ]
  },
  {
   "cell_type": "code",
   "execution_count": null,
   "metadata": {},
   "outputs": [],
   "source": [
    "table_name = 'kapitel'\n",
    "update_sql_table(sachsen_kapitel,table_name)\n",
    "#push_to_database(sachsen_kapitel, \"kapitel\", engine, \"capstone_public_budgeting\")"
   ]
  },
  {
   "cell_type": "code",
   "execution_count": null,
   "metadata": {},
   "outputs": [],
   "source": [
    "#push_to_database(sachsen_22, \"budget_all\", engine, \"capstone_public_budgeting\")"
   ]
  }
 ],
 "metadata": {
  "kernelspec": {
   "display_name": "nf_sql",
   "language": "python",
   "name": "python3"
  },
  "language_info": {
   "codemirror_mode": {
    "name": "ipython",
    "version": 3
   },
   "file_extension": ".py",
   "mimetype": "text/x-python",
   "name": "python",
   "nbconvert_exporter": "python",
   "pygments_lexer": "ipython3",
   "version": "3.9.13 (main, Oct 13 2022, 16:12:19) \n[Clang 12.0.0 ]"
  },
  "orig_nbformat": 4,
  "vscode": {
   "interpreter": {
    "hash": "a81d278bed5b5b59425dcb5a82ce505657686243c184b4a6b67e69d01c4d432e"
   }
  }
 },
 "nbformat": 4,
 "nbformat_minor": 2
}
