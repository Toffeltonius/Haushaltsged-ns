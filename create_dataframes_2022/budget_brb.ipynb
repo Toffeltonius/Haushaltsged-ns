{
 "cells": [
  {
   "cell_type": "code",
   "execution_count": null,
   "metadata": {},
   "outputs": [],
   "source": [
    "import pandas as pd\n",
    "import sqlalchemy as sql\n",
    "import psycopg2\n",
    "from sql_functions import get_engine\n",
    "from sql_functions import get_sql_config\n",
    "from sql_functions import push_to_database\n",
    "import update as up"
   ]
  },
  {
   "cell_type": "code",
   "execution_count": null,
   "metadata": {},
   "outputs": [],
   "source": [
    "df_budget = pd.read_excel('data/brb_2022.xlsm')"
   ]
  },
  {
   "cell_type": "code",
   "execution_count": null,
   "metadata": {},
   "outputs": [],
   "source": [
    "df_budget.columns = df_budget.columns.str.replace(\" \", \"_\")\n",
    "df_budget.columns = df_budget.columns.str.lower()"
   ]
  },
  {
   "cell_type": "code",
   "execution_count": null,
   "metadata": {},
   "outputs": [],
   "source": [
    "df_budget.rename(columns = {'bezeichnung':'ep_txt', 'bezeichnung.1':'kapitel_txt', 'bezeichnung_fz' : 'fz_txt' }, inplace = True)"
   ]
  },
  {
   "cell_type": "code",
   "execution_count": null,
   "metadata": {},
   "outputs": [],
   "source": [
    "df_budget['ep'] = df_budget['ep'].astype(str)\n",
    "df_budget['ep'] = df_budget['ep'].apply(lambda x:x.zfill(2))\n",
    "df_budget['kapitel'] = df_budget['kapitel'].astype(str)\n",
    "df_budget['kapitel'] = df_budget['kapitel'].str[-3:]\n",
    "df_budget['titel'] = df_budget['titel'].astype(str)\n",
    "df_budget['titel'] = df_budget['titel'].apply(lambda x:x.zfill(5))\n",
    "df_budget['fz'] = df_budget['fz'].astype(str)\n",
    "df_budget['fz'] = df_budget['fz'].apply(lambda x:x.zfill(3))\n"
   ]
  },
  {
   "cell_type": "code",
   "execution_count": null,
   "metadata": {},
   "outputs": [],
   "source": [
    "df_budget.dropna(subset=['ansatz_2022_in_eur'],inplace=True)\n",
    "df_budget.ansatz_2022_in_eur = df_budget.ansatz_2022_in_eur.apply(lambda x: int(x))\n"
   ]
  },
  {
   "cell_type": "code",
   "execution_count": null,
   "metadata": {},
   "outputs": [],
   "source": [
    "df_budget[\"gruppe\"] = df_budget[\"titel\"].str[:3]\n",
    "df_budget[\"counter\"] = df_budget[\"titel\"].str[3:]"
   ]
  },
  {
   "cell_type": "code",
   "execution_count": null,
   "metadata": {},
   "outputs": [],
   "source": [
    "df_budget = df_budget.drop(['tgr./mgr.','bezeichnung.2','titel','ansatz_2021_in_eur','ea'], axis=1)"
   ]
  },
  {
   "cell_type": "code",
   "execution_count": null,
   "metadata": {},
   "outputs": [],
   "source": [
    "df_budget['ansatz_2022_in_eur'] =df_budget[['ansatz_2022_in_eur', 'gruppe']].apply(lambda x:-x[0] if int(x[1]) > 400 else x[0], axis=1)"
   ]
  },
  {
   "cell_type": "code",
   "execution_count": null,
   "metadata": {},
   "outputs": [],
   "source": [
    "df_budget.insert(len(df_budget.columns),\"jahr\", 2022)\n",
    "df_budget.insert(len(df_budget.columns),\"state_id\", 4)"
   ]
  },
  {
   "cell_type": "code",
   "execution_count": null,
   "metadata": {},
   "outputs": [],
   "source": [
    "df_budget"
   ]
  },
  {
   "cell_type": "code",
   "execution_count": null,
   "metadata": {},
   "outputs": [],
   "source": [
    "df_fz = df_budget[['fz','fz_txt']].copy()\n",
    "df_fz.drop_duplicates(inplace = True)"
   ]
  },
  {
   "cell_type": "code",
   "execution_count": null,
   "metadata": {},
   "outputs": [],
   "source": [
    "df_ep_txt = df_budget[['ep','ep_txt','jahr','state_id']].copy()\n",
    "df_ep_txt.drop_duplicates(inplace=True)"
   ]
  },
  {
   "cell_type": "code",
   "execution_count": null,
   "metadata": {},
   "outputs": [],
   "source": [
    "df_kapitel_txt = df_budget[['ep','kapitel','kapitel_txt','jahr','state_id']].copy()\n",
    "df_kapitel_txt.drop_duplicates(inplace=True)"
   ]
  },
  {
   "attachments": {},
   "cell_type": "markdown",
   "metadata": {},
   "source": [
    "upload bundeslaender brb"
   ]
  },
  {
   "cell_type": "code",
   "execution_count": null,
   "metadata": {},
   "outputs": [],
   "source": [
    "df_fz.rename(columns={\"fz\":\"fkz\", \"fz_txt\":\"fkz_txt\"}, inplace=True)"
   ]
  },
  {
   "cell_type": "code",
   "execution_count": null,
   "metadata": {},
   "outputs": [],
   "source": [
    "get_sql_config()\n",
    "engine = get_engine()\n"
   ]
  },
  {
   "cell_type": "code",
   "execution_count": null,
   "metadata": {},
   "outputs": [],
   "source": [
    "up.update_fkz(df_fz)"
   ]
  },
  {
   "cell_type": "code",
   "execution_count": null,
   "metadata": {},
   "outputs": [],
   "source": [
    "df_ep_txt.rename(columns={\"jahr\":\"year\"}, inplace=True)"
   ]
  },
  {
   "cell_type": "code",
   "execution_count": null,
   "metadata": {},
   "outputs": [],
   "source": [
    "table_name = 'einzelplaene'\n",
    "up.update_sql_table(df_ep_txt,table_name)\n",
    "#push_to_database(df_ep_txt, \"einzelplaene\", engine, \"capstone_public_budgeting\")"
   ]
  },
  {
   "cell_type": "code",
   "execution_count": null,
   "metadata": {},
   "outputs": [],
   "source": [
    "df_ep_txt"
   ]
  },
  {
   "cell_type": "code",
   "execution_count": null,
   "metadata": {},
   "outputs": [],
   "source": [
    "df_kapitel_txt.rename(columns={\"jahr\":\"year\"}, inplace=True)"
   ]
  },
  {
   "cell_type": "code",
   "execution_count": null,
   "metadata": {},
   "outputs": [],
   "source": [
    "table_name = 'kapitel'\n",
    "up.update_sql_table(df_kapitel_txt,table_name)\n",
    "\n",
    "#push_to_database(df_kapitel_txt, \"kapitel\", engine, \"capstone_public_budgeting\")"
   ]
  },
  {
   "cell_type": "code",
   "execution_count": null,
   "metadata": {},
   "outputs": [],
   "source": [
    "#df_budget = df_budget.drop(['ep_txt', 'kapitel_txt', 'fz_txt'], axis=1)\n",
    "df_budget.rename(columns={'ansatz_2022_in_eur':'amount', 'fz':'fkz', 'jahr':'year'}, inplace=True)\n",
    "df_budget"
   ]
  },
  {
   "cell_type": "code",
   "execution_count": null,
   "metadata": {},
   "outputs": [],
   "source": [
    "#push_to_database(df_budget, \"budget_all\", engine, \"capstone_public_budgeting\")"
   ]
  }
 ],
 "metadata": {
  "kernelspec": {
   "display_name": "nf_sql",
   "language": "python",
   "name": "python3"
  },
  "language_info": {
   "codemirror_mode": {
    "name": "ipython",
    "version": 3
   },
   "file_extension": ".py",
   "mimetype": "text/x-python",
   "name": "python",
   "nbconvert_exporter": "python",
   "pygments_lexer": "ipython3",
   "version": "3.9.13 (main, Oct 13 2022, 16:12:19) \n[Clang 12.0.0 ]"
  },
  "orig_nbformat": 4,
  "vscode": {
   "interpreter": {
    "hash": "a81d278bed5b5b59425dcb5a82ce505657686243c184b4a6b67e69d01c4d432e"
   }
  }
 },
 "nbformat": 4,
 "nbformat_minor": 2
}
