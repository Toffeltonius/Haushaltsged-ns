{
 "cells": [
  {
   "cell_type": "markdown",
   "metadata": {},
   "source": [
    "Import Panda und SQLalchemy"
   ]
  },
  {
   "cell_type": "code",
   "execution_count": null,
   "metadata": {},
   "outputs": [],
   "source": [
    "import pandas as pd\n",
    "import sqlalchemy as sql\n",
    "from sql_functions import get_sql_config\n",
    "from sql_functions import get_engine\n",
    "from sql_functions import push_to_database\n",
    "import psycopg2\n"
   ]
  },
  {
   "cell_type": "markdown",
   "metadata": {},
   "source": [
    "csv-File importieren."
   ]
  },
  {
   "cell_type": "code",
   "execution_count": null,
   "metadata": {},
   "outputs": [],
   "source": [
    "sh_2022 = pd.read_csv(\"data/SH_2022.csv\", delimiter= \";\", encoding= 'windows-1252')\n",
    "sh_2022.head(20)\n",
    "sh_2022.info()"
   ]
  },
  {
   "cell_type": "markdown",
   "metadata": {},
   "source": [
    "Drop die ersten zwei Columns, die nicht gebraucht werden"
   ]
  },
  {
   "cell_type": "code",
   "execution_count": null,
   "metadata": {},
   "outputs": [],
   "source": [
    "sh_2022 = sh_2022.drop(['Ist 2020 T€','Soll 2021 T€'], axis=1)"
   ]
  },
  {
   "cell_type": "markdown",
   "metadata": {},
   "source": [
    "Columns names anpassen, Sonderzeichen entfernen, in tausend Euro entfernen"
   ]
  },
  {
   "cell_type": "code",
   "execution_count": null,
   "metadata": {},
   "outputs": [],
   "source": [
    "sh_2022.columns = sh_2022.columns.str.replace(\" \", \"_\")\n",
    "sh_2022.columns = sh_2022.columns.str.lower()\n",
    "sh_2022.rename(columns={\"ansatz_2022_t€\":\"ansatz_2022_euro\"}, inplace=True)\n",
    "sh_2022\n"
   ]
  },
  {
   "cell_type": "markdown",
   "metadata": {},
   "source": [
    "Values ins passende Format setzten und leading-0 einfügen, wo sie automatisch entfernt wurde"
   ]
  },
  {
   "cell_type": "code",
   "execution_count": null,
   "metadata": {},
   "outputs": [],
   "source": [
    "sh_2022['ep'] = sh_2022['ep'].astype(str)\n",
    "sh_2022['kapitel'] = sh_2022['kapitel'].astype(str)\n",
    "sh_2022['titel'] = sh_2022['titel'].astype(str)\n",
    "sh_2022['titel'] = sh_2022['titel'].apply(lambda x:x.zfill(5))\n",
    "sh_2022['ep'] = sh_2022['ep'].apply(lambda x:x.zfill(2))\n",
    "sh_2022['kapitel'] = sh_2022['kapitel'].str[-2:]\n",
    "sh_2022['kapitel'] = sh_2022['kapitel'].apply(lambda x:x.zfill(3))\n",
    "sh_2022"
   ]
  },
  {
   "cell_type": "markdown",
   "metadata": {},
   "source": [
    "Bei den Zahlen . und , Systematik angepasst und *1000 genommen und von string zu float und dann INT umgewandelt."
   ]
  },
  {
   "cell_type": "code",
   "execution_count": null,
   "metadata": {},
   "outputs": [],
   "source": [
    "sh_2022.ansatz_2022_euro = sh_2022['ansatz_2022_euro'].str.replace('.', '').str.replace(\",\", \".\").astype(float)\n",
    "sh_2022.ansatz_2022_euro = sh_2022['ansatz_2022_euro'].apply(lambda x:int(x*1000))"
   ]
  },
  {
   "cell_type": "markdown",
   "metadata": {},
   "source": []
  },
  {
   "cell_type": "markdown",
   "metadata": {},
   "source": [
    "Titel in gruppe und counter gesplittet, gruppe und counter eingefügt"
   ]
  },
  {
   "cell_type": "code",
   "execution_count": null,
   "metadata": {},
   "outputs": [],
   "source": [
    "sh_2022[\"gruppe\"] = sh_2022[\"titel\"].str[:3]\n",
    "sh_2022[\"counter\"] = sh_2022[\"titel\"].str[3:]\n",
    "sh_2022.info()"
   ]
  },
  {
   "cell_type": "markdown",
   "metadata": {},
   "source": [
    "jahr und state_id eingefügt"
   ]
  },
  {
   "cell_type": "code",
   "execution_count": null,
   "metadata": {},
   "outputs": [],
   "source": [
    "sh_2022.insert(8, \"jahr\", 2022)\n",
    "sh_2022.insert(9, \"state_id\", 15)\n",
    "sh_2022.info()"
   ]
  },
  {
   "cell_type": "markdown",
   "metadata": {},
   "source": [
    "titel gedropt, da redundant"
   ]
  },
  {
   "cell_type": "code",
   "execution_count": null,
   "metadata": {},
   "outputs": [],
   "source": [
    "sh_2022 = sh_2022.drop(\"titel\", axis=1)\n",
    "sh_2022.head(20)"
   ]
  },
  {
   "cell_type": "markdown",
   "metadata": {},
   "source": [
    "anhand der gruppe einnahmen und ausgaben in den Zahlen definiert"
   ]
  },
  {
   "cell_type": "code",
   "execution_count": null,
   "metadata": {},
   "outputs": [],
   "source": [
    "sh_2022['ansatz_2022_euro'] =sh_2022[['ansatz_2022_euro', 'gruppe']].apply(lambda x:-x[0] if int(x[1]) > 400 else x[0], axis=1)\n"
   ]
  },
  {
   "cell_type": "markdown",
   "metadata": {},
   "source": [
    "mgtg gedropt, hat keinen mehrwert und viele nan"
   ]
  },
  {
   "cell_type": "code",
   "execution_count": null,
   "metadata": {},
   "outputs": [],
   "source": [
    "sh_2022 = sh_2022.drop(['mgtg'], axis=1)\n"
   ]
  },
  {
   "cell_type": "markdown",
   "metadata": {},
   "source": [
    "einmal angucken, da schön"
   ]
  },
  {
   "cell_type": "code",
   "execution_count": null,
   "metadata": {},
   "outputs": [],
   "source": [
    "sh_2022.head()"
   ]
  },
  {
   "attachments": {},
   "cell_type": "markdown",
   "metadata": {},
   "source": [
    "Wir bereiten alles für den Push in die Database vor."
   ]
  },
  {
   "cell_type": "code",
   "execution_count": null,
   "metadata": {},
   "outputs": [],
   "source": [
    "get_sql_config()\n",
    "engine = get_engine()\n",
    "\n"
   ]
  },
  {
   "attachments": {},
   "cell_type": "markdown",
   "metadata": {},
   "source": [
    "Nun können wir pushen."
   ]
  },
  {
   "cell_type": "code",
   "execution_count": null,
   "metadata": {},
   "outputs": [],
   "source": [
    "#push_to_database(sh_2022, \"budget_text_sh\", engine , \"capstone_public_budgeting\")"
   ]
  },
  {
   "attachments": {},
   "cell_type": "markdown",
   "metadata": {},
   "source": [
    "Wir ergänzen das nun hinsichtlich der Codierungstabellen von SH: Einlesen und hochladen."
   ]
  },
  {
   "cell_type": "code",
   "execution_count": null,
   "metadata": {},
   "outputs": [],
   "source": [
    "codierung_sh_2022_EP = pd.read_csv(\"data/Codierung_SH - EP_Bezeichnung_2022.csv\")\n",
    "codierung_sh_2021_EP = pd.read_csv(\"data/Codierung_SH - EP_Bezeichnung_2021.csv\")\n",
    "codierung_sh_2020_EP = pd.read_csv(\"data/Codierung_SH - EP_Bezeichnung_2020.csv\")\n",
    "codierung_sh_2019_EP = pd.read_csv(\"data/Codierung_SH - EP_Bezeichnung_2019.csv\")\n",
    "codierung_sh_2018_EP = pd.read_csv(\"data/Codierung_SH - EP_Bezeichnung_2018.csv\")\n",
    "codierung_sh_2022_KNr = pd.read_csv(\"data/Codierung_SH - KapitelNr_Bezeichnung_2022.csv\")\n",
    "codierung_sh_2021_KNr = pd.read_csv(\"data/Codierung_SH - KapitelNr_Bezeichnung_2021.csv\")\n",
    "codierung_sh_2020_KNr = pd.read_csv(\"data/Codierung_SH - KapitelNr_Bezeichnung_2020.csv\")\n",
    "codierung_sh_2019_KNr = pd.read_csv(\"data/Codierung_SH - KapitelNr_Bezeichnung_2019.csv\")\n",
    "codierung_sh_2018_KNr = pd.read_csv(\"data/Codierung_SH - KapitelNr_Bezeichnung_2018.csv\")"
   ]
  },
  {
   "attachments": {},
   "cell_type": "markdown",
   "metadata": {},
   "source": [
    "Nun müssen die jeweiligen df aufbereitet werden. Wir fangen mit den EP + Bezeichnungen an. Int muss zu str + leading 0 + Columnname anpassen."
   ]
  },
  {
   "cell_type": "code",
   "execution_count": null,
   "metadata": {},
   "outputs": [],
   "source": [
    "codierung_sh_2022_EP['ep_nr'] = codierung_sh_2022_EP['ep_nr'].astype(str)\n",
    "codierung_sh_2022_EP['ep_nr'] = codierung_sh_2022_EP['ep_nr'].apply(lambda x:x.zfill(2))\n",
    "codierung_sh_2022_EP.rename(columns={\"ep_nr\":\"ep\"}, inplace=True)\n",
    "codierung_sh_2022_EP.insert(len(codierung_sh_2022_EP.columns), \"state_id\", 15)\n",
    "codierung_sh_2022_EP.replace(to_replace=r';', value=',', regex=True, inplace=True)\n",
    "codierung_sh_2022_EP.rename(columns={'jahr':'year', 'ep_bezeichnung':'ep_txt'}, inplace=True)\n",
    "\n",
    "codierung_sh_2021_EP['ep_nr'] = codierung_sh_2021_EP['ep_nr'].astype(str)\n",
    "codierung_sh_2021_EP['ep_nr'] = codierung_sh_2021_EP['ep_nr'].apply(lambda x:x.zfill(2))\n",
    "codierung_sh_2021_EP.rename(columns={\"ep_nr\":\"ep\"}, inplace=True)\n",
    "codierung_sh_2021_EP.insert(len(codierung_sh_2021_EP.columns), \"state_id\", 15)\n",
    "codierung_sh_2021_EP.replace(to_replace=r';', value=',', regex=True, inplace=True)\n",
    "codierung_sh_2021_EP.rename(columns={'jahr':'year', 'ep_bezeichnung':'ep_txt'}, inplace=True)\n",
    "\n",
    "codierung_sh_2020_EP['ep_nr'] = codierung_sh_2020_EP['ep_nr'].astype(str)\n",
    "codierung_sh_2020_EP['ep_nr'] = codierung_sh_2020_EP['ep_nr'].apply(lambda x:x.zfill(2))\n",
    "codierung_sh_2020_EP.rename(columns={\"ep_nr\":\"ep\"}, inplace=True)\n",
    "codierung_sh_2020_EP.insert(len(codierung_sh_2020_EP.columns), \"state_id\", 15)\n",
    "codierung_sh_2020_EP.replace(to_replace=r';', value=',', regex=True, inplace=True)\n",
    "codierung_sh_2020_EP.rename(columns={'jahr':'year', 'ep_bezeichnung':'ep_txt'}, inplace=True)\n",
    "\n",
    "codierung_sh_2019_EP['ep_nr'] = codierung_sh_2019_EP['ep_nr'].astype(str)\n",
    "codierung_sh_2019_EP['ep_nr'] = codierung_sh_2019_EP['ep_nr'].apply(lambda x:x.zfill(2))\n",
    "codierung_sh_2019_EP.rename(columns={\"ep_nr\":\"ep\"}, inplace=True)\n",
    "codierung_sh_2019_EP.insert(len(codierung_sh_2019_EP.columns), \"state_id\", 15)\n",
    "codierung_sh_2019_EP.replace(to_replace=r';', value=',', regex=True, inplace=True)\n",
    "codierung_sh_2019_EP.rename(columns={'jahr':'year', 'ep_bezeichnung':'ep_txt'}, inplace=True)\n",
    "\n",
    "codierung_sh_2018_EP['ep_nr'] = codierung_sh_2018_EP['ep_nr'].astype(str)\n",
    "codierung_sh_2018_EP['ep_nr'] = codierung_sh_2018_EP['ep_nr'].apply(lambda x:x.zfill(2))\n",
    "codierung_sh_2018_EP.rename(columns={\"ep_nr\":\"ep\"}, inplace=True)\n",
    "codierung_sh_2018_EP.insert(len(codierung_sh_2018_EP.columns), \"state_id\", 15)\n",
    "codierung_sh_2018_EP.replace(to_replace=r';', value=',', regex=True, inplace=True)\n",
    "codierung_sh_2018_EP.rename(columns={'jahr':'year', 'ep_bezeichnung':'ep_txt'}, inplace=True)\n"
   ]
  },
  {
   "cell_type": "code",
   "execution_count": null,
   "metadata": {},
   "outputs": [],
   "source": [
    "codierung_sh_2020_EP"
   ]
  },
  {
   "attachments": {},
   "cell_type": "markdown",
   "metadata": {},
   "source": [
    "Nun kümmern wir uns um die Kapitel. Wieder int zu str, leading 0 und namen anpassen."
   ]
  },
  {
   "cell_type": "code",
   "execution_count": null,
   "metadata": {},
   "outputs": [],
   "source": [
    "codierung_sh_2022_KNr['ep_nr'] = codierung_sh_2022_KNr['ep_nr'].astype(str)\n",
    "codierung_sh_2022_KNr['kapitel_nr'] = codierung_sh_2022_KNr['kapitel_nr'].astype(str)\n",
    "codierung_sh_2022_KNr['ep_nr'] = codierung_sh_2022_KNr['ep_nr'].apply(lambda x:x.zfill(2))\n",
    "codierung_sh_2022_KNr['kapitel_nr'] = codierung_sh_2022_KNr['kapitel_nr'].apply(lambda x:x.zfill(3))\n",
    "codierung_sh_2022_KNr.rename(columns={\"ep_nr\":\"ep\"}, inplace=True)\n",
    "codierung_sh_2022_KNr.rename(columns={'kapitel_nr':'kapitel'}, inplace=True)\n",
    "codierung_sh_2022_KNr.insert(len(codierung_sh_2022_KNr.columns), \"state_id\", 15)\n",
    "codierung_sh_2022_KNr.replace(to_replace=r';', value=',', regex=True, inplace=True)\n",
    "codierung_sh_2022_KNr.rename(columns={'jahr':'year', 'kapitel_bezeichnung':'kapitel_txt'}, inplace=True)\n",
    "\n",
    "codierung_sh_2021_KNr['ep_nr'] = codierung_sh_2021_KNr['ep_nr'].astype(str)\n",
    "codierung_sh_2021_KNr['kapitel_nr'] = codierung_sh_2021_KNr['kapitel_nr'].astype(str)\n",
    "codierung_sh_2021_KNr['ep_nr'] = codierung_sh_2021_KNr['ep_nr'].apply(lambda x:x.zfill(2))\n",
    "codierung_sh_2021_KNr['kapitel_nr'] = codierung_sh_2021_KNr['kapitel_nr'].apply(lambda x:x.zfill(3))\n",
    "codierung_sh_2021_KNr.rename(columns={\"ep_nr\":\"ep\"}, inplace=True)\n",
    "codierung_sh_2021_KNr.rename(columns={'kapitel_nr':'kapitel'}, inplace=True)\n",
    "codierung_sh_2021_KNr.insert(len(codierung_sh_2021_KNr.columns), \"state_id\", 15)\n",
    "codierung_sh_2021_KNr.replace(to_replace=r';', value=',', regex=True, inplace=True)\n",
    "codierung_sh_2021_KNr.rename(columns={'jahr':'year', 'kapitel_bezeichnung':'kapitel_txt'}, inplace=True)\n",
    "\n",
    "codierung_sh_2020_KNr['ep_nr'] = codierung_sh_2020_KNr['ep_nr'].astype(str)\n",
    "codierung_sh_2020_KNr['kapitel_nr'] = codierung_sh_2020_KNr['kapitel_nr'].astype(str)\n",
    "codierung_sh_2020_KNr['ep_nr'] = codierung_sh_2020_KNr['ep_nr'].apply(lambda x:x.zfill(2))\n",
    "codierung_sh_2020_KNr['kapitel_nr'] = codierung_sh_2020_KNr['kapitel_nr'].apply(lambda x:x.zfill(3))\n",
    "codierung_sh_2020_KNr.rename(columns={\"ep_nr\":\"ep\"}, inplace=True)\n",
    "codierung_sh_2020_KNr.rename(columns={'kapitel_nr':'kapitel'}, inplace=True)\n",
    "codierung_sh_2020_KNr.insert(len(codierung_sh_2020_KNr.columns), \"state_id\", 15)\n",
    "codierung_sh_2020_KNr.replace(to_replace=r';', value=',', regex=True, inplace=True)\n",
    "codierung_sh_2020_KNr.rename(columns={'jahr':'year', 'kapitel_bezeichnung':'kapitel_txt'}, inplace=True)\n",
    "\n",
    "codierung_sh_2019_KNr['ep_nr'] = codierung_sh_2019_KNr['ep_nr'].astype(str)\n",
    "codierung_sh_2019_KNr['kapitel_nr'] = codierung_sh_2019_KNr['kapitel_nr'].astype(str)\n",
    "codierung_sh_2019_KNr['ep_nr'] = codierung_sh_2019_KNr['ep_nr'].apply(lambda x:x.zfill(2))\n",
    "codierung_sh_2019_KNr['kapitel_nr'] = codierung_sh_2019_KNr['kapitel_nr'].apply(lambda x:x.zfill(3))\n",
    "codierung_sh_2019_KNr.rename(columns={\"ep_nr\":\"ep\"}, inplace=True)\n",
    "codierung_sh_2019_KNr.rename(columns={'kapitel_nr':'kapitel'}, inplace=True)\n",
    "codierung_sh_2019_KNr.insert(len(codierung_sh_2019_KNr.columns), \"state_id\", 15)\n",
    "codierung_sh_2019_KNr.replace(to_replace=r';', value=',', regex=True, inplace=True)\n",
    "codierung_sh_2019_KNr.rename(columns={'jahr':'year', 'kapitel_bezeichnung':'kapitel_txt'}, inplace=True)\n",
    "\n",
    "codierung_sh_2018_KNr['ep_nr'] = codierung_sh_2018_KNr['ep_nr'].astype(str)\n",
    "codierung_sh_2018_KNr['kapitel_nr'] = codierung_sh_2018_KNr['kapitel_nr'].astype(str)\n",
    "codierung_sh_2018_KNr['ep_nr'] = codierung_sh_2018_KNr['ep_nr'].apply(lambda x:x.zfill(2))\n",
    "codierung_sh_2018_KNr['kapitel_nr'] = codierung_sh_2018_KNr['kapitel_nr'].apply(lambda x:x.zfill(3))\n",
    "codierung_sh_2018_KNr.rename(columns={\"ep_nr\":\"ep\"}, inplace=True)\n",
    "codierung_sh_2018_KNr.rename(columns={'kapitel_nr':'kapitel'}, inplace=True)\n",
    "codierung_sh_2018_KNr.insert(len(codierung_sh_2018_KNr.columns), \"state_id\", 15)\n",
    "codierung_sh_2018_KNr.replace(to_replace=r';', value=',', regex=True, inplace=True)\n",
    "codierung_sh_2018_KNr.rename(columns={'jahr':'year', 'kapitel_bezeichnung':'kapitel_txt'}, inplace=True)"
   ]
  },
  {
   "cell_type": "code",
   "execution_count": null,
   "metadata": {},
   "outputs": [],
   "source": [
    "codierung_sh_2018_KNr"
   ]
  },
  {
   "attachments": {},
   "cell_type": "markdown",
   "metadata": {},
   "source": [
    "Es klappt! Nachfolgend immer das jeweilige df einfügen. ausge#, da sonst doppelt und dreifach hochgeladen."
   ]
  },
  {
   "cell_type": "code",
   "execution_count": null,
   "metadata": {},
   "outputs": [],
   "source": [
    "#push_to_database(codierung_sh_2018_EP,\"einzelplaene\", engine, \"capstone_public_budgeting\")\n",
    "\n",
    "\n",
    "\n",
    "#push_to_database(codierung_sh_2018_KNr,\"kapitel\", engine, \"capstone_public_budgeting\")"
   ]
  },
  {
   "cell_type": "code",
   "execution_count": null,
   "metadata": {},
   "outputs": [],
   "source": [
    "sh_2022.rename(columns={'jahr':'year', 'ansatz_2022_euro':'amount'}, inplace=True)\n",
    "sh_2022"
   ]
  },
  {
   "cell_type": "code",
   "execution_count": null,
   "metadata": {},
   "outputs": [],
   "source": [
    "#push_to_database(sh_2022, \"budget_all\", engine, \"capstone_public_budgeting\")"
   ]
  }
 ],
 "metadata": {
  "kernelspec": {
   "display_name": "Python 3.9.13 ('nf_sql')",
   "language": "python",
   "name": "python3"
  },
  "language_info": {
   "codemirror_mode": {
    "name": "ipython",
    "version": 3
   },
   "file_extension": ".py",
   "mimetype": "text/x-python",
   "name": "python",
   "nbconvert_exporter": "python",
   "pygments_lexer": "ipython3",
   "version": "3.9.13 (main, Oct 13 2022, 16:12:19) \n[Clang 12.0.0 ]"
  },
  "orig_nbformat": 4,
  "vscode": {
   "interpreter": {
    "hash": "a81d278bed5b5b59425dcb5a82ce505657686243c184b4a6b67e69d01c4d432e"
   }
  }
 },
 "nbformat": 4,
 "nbformat_minor": 2
}
