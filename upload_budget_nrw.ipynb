{
 "cells": [
  {
   "cell_type": "code",
   "execution_count": null,
   "metadata": {},
   "outputs": [],
   "source": [
    "import pandas as pd\n",
    "import sqlalchemy as sql"
   ]
  },
  {
   "attachments": {},
   "cell_type": "markdown",
   "metadata": {},
   "source": [
    "csv-File importieren."
   ]
  },
  {
   "cell_type": "code",
   "execution_count": null,
   "metadata": {},
   "outputs": [],
   "source": [
    "nrw_2022 = pd.read_csv(\"data/nrw_2022.csv\")\n",
    "nrw_2022.head(20)\n",
    "nrw_2022.info()"
   ]
  },
  {
   "attachments": {},
   "cell_type": "markdown",
   "metadata": {},
   "source": [
    "Columns names anpassen, Sonderzeichen entfernen, in tausend Euro entfernen"
   ]
  },
  {
   "cell_type": "code",
   "execution_count": null,
   "metadata": {},
   "outputs": [],
   "source": [
    "nrw_2022.columns = nrw_2022.columns.str.replace(\" \", \"_\")\n",
    "nrw_2022.columns = nrw_2022.columns.str.lower()\n",
    "nrw_2022.rename(columns={\"ansatz_2022_t€\":\"ansatz_2022_euro\"}, inplace=True)\n",
    "nrw_2022.tail()"
   ]
  },
  {
   "attachments": {},
   "cell_type": "markdown",
   "metadata": {},
   "source": [
    "Umbenennung der Namen im Columns"
   ]
  },
  {
   "cell_type": "code",
   "execution_count": null,
   "metadata": {},
   "outputs": [],
   "source": [
    "nrw_2022.rename(columns = {'einzelplan':'ep', 'zählnummer':'counter', }, inplace = True)\n",
    "nrw_2022.head()"
   ]
  },
  {
   "attachments": {},
   "cell_type": "markdown",
   "metadata": {},
   "source": [
    "droppen von columns"
   ]
  },
  {
   "cell_type": "code",
   "execution_count": null,
   "metadata": {},
   "outputs": [],
   "source": [
    "nrw_2022.drop('ist_2020_in_euro', inplace=True, axis=1)"
   ]
  },
  {
   "attachments": {},
   "cell_type": "markdown",
   "metadata": {},
   "source": [
    "drop von column"
   ]
  },
  {
   "cell_type": "code",
   "execution_count": null,
   "metadata": {},
   "outputs": [],
   "source": [
    "nrw_2022.drop('ansatz_2021_in_euro', inplace=True, axis=1)\n",
    "nrw_2022.head()\n"
   ]
  },
  {
   "attachments": {},
   "cell_type": "markdown",
   "metadata": {},
   "source": [
    "drop column"
   ]
  },
  {
   "cell_type": "code",
   "execution_count": null,
   "metadata": {},
   "outputs": [],
   "source": [
    "nrw_2022.drop('verpflichtungsermächtigung_in_euro', inplace=True, axis=1)\n",
    "nrw_2022.head()"
   ]
  },
  {
   "attachments": {},
   "cell_type": "markdown",
   "metadata": {},
   "source": [
    "check-up"
   ]
  },
  {
   "cell_type": "code",
   "execution_count": null,
   "metadata": {},
   "outputs": [],
   "source": [
    "nrw_2022"
   ]
  },
  {
   "attachments": {},
   "cell_type": "markdown",
   "metadata": {},
   "source": [
    "column eingefügt mit Jahr/Wert=2022"
   ]
  },
  {
   "cell_type": "code",
   "execution_count": null,
   "metadata": {},
   "outputs": [],
   "source": [
    "nrw_2022.insert(loc=6,\n",
    "          column='jahr',\n",
    "          value=2022)\n",
    "\n",
    "nrw_2022.head()"
   ]
  },
  {
   "attachments": {},
   "cell_type": "markdown",
   "metadata": {},
   "source": [
    "Column hinzugefügt mit state_id/wert= 10 (NRW)"
   ]
  },
  {
   "cell_type": "code",
   "execution_count": null,
   "metadata": {},
   "outputs": [],
   "source": [
    "nrw_2022.insert(loc=7,\n",
    "          column='state_id',\n",
    "          value=10)\n",
    "\n",
    "nrw_2022.head()"
   ]
  },
  {
   "attachments": {},
   "cell_type": "markdown",
   "metadata": {},
   "source": [
    "check-up"
   ]
  },
  {
   "cell_type": "code",
   "execution_count": null,
   "metadata": {},
   "outputs": [],
   "source": [
    "nrw_2022"
   ]
  },
  {
   "attachments": {},
   "cell_type": "markdown",
   "metadata": {},
   "source": [
    "Reihenfolge nach upload_budget angepasst -> wird nocht geändert"
   ]
  },
  {
   "cell_type": "code",
   "execution_count": null,
   "metadata": {},
   "outputs": [],
   "source": [
    "nrw_2022 = nrw_2022[['ep', 'kapitel', 'zweckbestimmung', 'ansatz_2022_in_euro', 'gruppe', 'counter', 'funktion', 'jahr', 'state_id']]\n",
    "nrw_2022.head()"
   ]
  },
  {
   "attachments": {},
   "cell_type": "markdown",
   "metadata": {},
   "source": [
    "check-up"
   ]
  },
  {
   "cell_type": "code",
   "execution_count": null,
   "metadata": {},
   "outputs": [],
   "source": [
    "nrw_2022.info()"
   ]
  },
  {
   "attachments": {},
   "cell_type": "markdown",
   "metadata": {},
   "source": [
    "Umwandlung der Werte im Columns um weiteres vorgehen zu ermöglichen "
   ]
  },
  {
   "cell_type": "code",
   "execution_count": null,
   "metadata": {},
   "outputs": [],
   "source": [
    "nrw_2022['ep'] = nrw_2022['ep'].astype(str)\n",
    "nrw_2022['kapitel'] = nrw_2022['kapitel'].astype(str)\n",
    "#sh_2022['titel'] = sh_2022['titel'].astype(str)\n",
    "#sh_2022['titel'] = sh_2022['titel'].apply(lambda x:x.zfill(5))\n",
    "nrw_2022['ep'] = nrw_2022['ep'].apply(lambda x:x.zfill(2))\n",
    "nrw_2022['counter'] = nrw_2022['counter'].astype(str)\n",
    "nrw_2022['counter'] = nrw_2022['counter'].apply(lambda x:x.zfill(2))\n",
    "nrw_2022['kapitel'] = nrw_2022['kapitel']#.str#[-2:]\n",
    "nrw_2022"
   ]
  },
  {
   "attachments": {},
   "cell_type": "markdown",
   "metadata": {},
   "source": [
    "Kapitel überarbeitet mit nullziffer-> vergelich roh daten "
   ]
  },
  {
   "cell_type": "code",
   "execution_count": null,
   "metadata": {},
   "outputs": [],
   "source": [
    "nrw_2022['kapitel'] = nrw_2022['kapitel'].apply(lambda x:x.zfill(3))"
   ]
  },
  {
   "cell_type": "code",
   "execution_count": null,
   "metadata": {},
   "outputs": [],
   "source": [
    "nrw_2022"
   ]
  },
  {
   "attachments": {},
   "cell_type": "markdown",
   "metadata": {},
   "source": [
    "Summen mit '.' werden ersetzt (tausender punkt)"
   ]
  },
  {
   "cell_type": "code",
   "execution_count": null,
   "metadata": {},
   "outputs": [],
   "source": [
    "nrw_2022['ansatz_2022_in_euro'] = nrw_2022['ansatz_2022_in_euro'].str.replace(\".\", \"\")"
   ]
  },
  {
   "attachments": {},
   "cell_type": "markdown",
   "metadata": {},
   "source": [
    "check-up"
   ]
  },
  {
   "cell_type": "code",
   "execution_count": null,
   "metadata": {},
   "outputs": [],
   "source": [
    "nrw_2022"
   ]
  },
  {
   "attachments": {},
   "cell_type": "markdown",
   "metadata": {},
   "source": [
    "umwandeln in int"
   ]
  },
  {
   "cell_type": "code",
   "execution_count": null,
   "metadata": {},
   "outputs": [],
   "source": [
    "nrw_2022['ansatz_2022_in_euro'] = nrw_2022['ansatz_2022_in_euro'].astype(int)"
   ]
  },
  {
   "attachments": {},
   "cell_type": "markdown",
   "metadata": {},
   "source": [
    "checkp-up"
   ]
  },
  {
   "cell_type": "code",
   "execution_count": null,
   "metadata": {},
   "outputs": [],
   "source": [
    "nrw_2022"
   ]
  },
  {
   "attachments": {},
   "cell_type": "markdown",
   "metadata": {},
   "source": [
    "alle Werte >=400 werden zu negative Zahlen umgewandelt"
   ]
  },
  {
   "cell_type": "code",
   "execution_count": null,
   "metadata": {},
   "outputs": [],
   "source": [
    "nrw_2022.loc[nrw_2022['gruppe'] >= 400, 'ansatz_2022_in_euro'] = nrw_2022['ansatz_2022_in_euro']* -1\n"
   ]
  },
  {
   "attachments": {},
   "cell_type": "markdown",
   "metadata": {},
   "source": [
    "letzter check up"
   ]
  },
  {
   "cell_type": "code",
   "execution_count": null,
   "metadata": {},
   "outputs": [],
   "source": [
    "nrw_2022"
   ]
  },
  {
   "cell_type": "code",
   "execution_count": null,
   "metadata": {},
   "outputs": [],
   "source": []
  }
 ],
 "metadata": {
  "kernelspec": {
   "display_name": "nf_sql",
   "language": "python",
   "name": "python3"
  },
  "language_info": {
   "codemirror_mode": {
    "name": "ipython",
    "version": 3
   },
   "file_extension": ".py",
   "mimetype": "text/x-python",
   "name": "python",
   "nbconvert_exporter": "python",
   "pygments_lexer": "ipython3",
   "version": "3.9.13 (main, Oct 13 2022, 16:12:19) \n[Clang 12.0.0 ]"
  },
  "orig_nbformat": 4,
  "vscode": {
   "interpreter": {
    "hash": "a81d278bed5b5b59425dcb5a82ce505657686243c184b4a6b67e69d01c4d432e"
   }
  }
 },
 "nbformat": 4,
 "nbformat_minor": 2
}
